{
 "cells": [
  {
   "cell_type": "markdown",
   "id": "22649954",
   "metadata": {},
   "source": [
    "# Jupyer Notebook Magic coommands"
   ]
  },
  {
   "cell_type": "code",
   "execution_count": 154,
   "id": "5901e446",
   "metadata": {},
   "outputs": [
    {
     "name": "stdout",
     "output_type": "stream",
     "text": [
      "Overwriting test_py1.py\n"
     ]
    }
   ],
   "source": [
    "%%writefile test_py1.py                     \n",
    "import numpy as np\n",
    "N=3                               \n",
    "for i in range(N):\n",
    "    print(\"pi is:\",np.pi)"
   ]
  },
  {
   "cell_type": "code",
   "execution_count": 155,
   "id": "03991c3a",
   "metadata": {
    "scrolled": true
   },
   "outputs": [
    {
     "name": "stdout",
     "output_type": "stream",
     "text": [
      " C 드라이브의 볼륨에는 이름이 없습니다.\n",
      " 볼륨 일련 번호: 4221-0BD5\n",
      "\n",
      " C:\\Users\\acyc0\\DataScience\\Moca_Datascience 디렉터리\n",
      "\n",
      "2022-10-07  오후 04:57    <DIR>          .\n",
      "2022-10-07  오후 04:57    <DIR>          ..\n",
      "2022-10-05  오후 08:09    <DIR>          .ipynb_checkpoints\n",
      "2022-10-07  오후 04:57            86,468 Python_intro_rev8(2).ipynb\n",
      "2022-10-07  오후 04:57               103 test_py1.py\n",
      "               2개 파일              86,571 바이트\n",
      "               3개 디렉터리  245,088,542,720 바이트 남음\n"
     ]
    }
   ],
   "source": [
    "!dir        "
   ]
  },
  {
   "cell_type": "code",
   "execution_count": 156,
   "id": "07c7d473",
   "metadata": {},
   "outputs": [
    {
     "name": "stdout",
     "output_type": "stream",
     "text": [
      "import numpy as np\n",
      "N=3                               \n",
      "for i in range(N):\n",
      "    print(\"pi is:\",np.pi)\n"
     ]
    }
   ],
   "source": [
    "!type test_py1.py        "
   ]
  },
  {
   "cell_type": "code",
   "execution_count": 157,
   "id": "36763454",
   "metadata": {},
   "outputs": [
    {
     "name": "stdout",
     "output_type": "stream",
     "text": [
      "pi is: 3.141592653589793\n",
      "pi is: 3.141592653589793\n",
      "pi is: 3.141592653589793\n"
     ]
    }
   ],
   "source": [
    "%run test_py1.py"
   ]
  },
  {
   "cell_type": "code",
   "execution_count": 158,
   "id": "b5bf523c",
   "metadata": {
    "scrolled": true
   },
   "outputs": [
    {
     "name": "stdout",
     "output_type": "stream",
     "text": [
      "Variable       Type              Data/Info\n",
      "------------------------------------------\n",
      "A              range             range(0, 6)\n",
      "B              list              n=3\n",
      "C              list              n=2\n",
      "N              int               3\n",
      "a              str               77777\n",
      "aa             ndarray           4: 4 elems, type `int32`, 16 bytes\n",
      "b              int               4\n",
      "c              complex           (1.5+0.5j)\n",
      "cities         list              n=9\n",
      "df             DataFrame            순서    이름  나이\\na   2  p<...> lee  20\\nc   3  choi  40\n",
      "dict_list      dict              n=9\n",
      "element        int               0\n",
      "fm             module            <module 'matplotlib.font_<...>lotlib\\\\font_manager.py'>\n",
      "font           FontProperties    Malgun Gothic:style=norma<...>mBarunGothic.ttf:size=9.0\n",
      "font_manager   module            <module 'matplotlib.font_<...>lotlib\\\\font_manager.py'>\n",
      "font_name      str               Malgun Gothic\n",
      "fontpath       str               /usr/share/fonts/truetype<...>anum/NanumBarunGothic.ttf\n",
      "i              int               2\n",
      "items          list              n=3\n",
      "k              str               name\n",
      "list_2         list              n=5\n",
      "math           module            <module 'math' (built-in)>\n",
      "matplotlib     module            <module 'matplotlib' from<...>matplotlib\\\\__init__.py'>\n",
      "mpl            module            <module 'matplotlib' from<...>matplotlib\\\\__init__.py'>\n",
      "my_dict        dict              n=3\n",
      "my_tuple       tuple             n=3\n",
      "n              int               10\n",
      "name           str               Debora\n",
      "new_items      list              n=3\n",
      "np             module            <module 'numpy' from 'C:\\<...>ges\\\\numpy\\\\__init__.py'>\n",
      "path           str               c:\\Windows\\Fonts\\malgun.ttf\n",
      "pd             module            <module 'pandas' from 'C:<...>es\\\\pandas\\\\__init__.py'>\n",
      "phone          int               7678\n",
      "platform       module            <module 'platform' from '<...>onda3\\\\lib\\\\platform.py'>\n",
      "plt            module            <module 'matplotlib.pyplo<...>\\\\matplotlib\\\\pyplot.py'>\n",
      "popul          list              n=9\n",
      "popul_dict     dict              n=9\n",
      "population     list              n=9\n",
      "rc             function          <function rc at 0x000001F2B930EA60>\n",
      "s              str               heLLo\n",
      "s1             set               {1, 2, 3, 4, 5}\n",
      "s2             set               {3, 4, 5, 6, 7}\n",
      "ss             str               hihi\n",
      "sss            str               HIHI\n",
      "string         module            <module 'string' from 'C:<...>aconda3\\\\lib\\\\string.py'>\n",
      "t              list              n=5\n",
      "table          dict              n=3\n",
      "test           bool              False\n",
      "v              str               lee\n",
      "w              list              n=5\n",
      "word           str               readable\n",
      "words          list              n=3\n",
      "x              float             1000000.0\n",
      "y              float             0.001\n",
      "y1             ndarray           100: 100 elems, type `float64`, 800 bytes\n",
      "y2             ndarray           100: 100 elems, type `float64`, 800 bytes\n",
      "your_tuple     tuple             n=3\n",
      "z              int               101\n"
     ]
    }
   ],
   "source": [
    "%whos  \n",
    "# 메모리에 저장된 변수들 보기"
   ]
  },
  {
   "cell_type": "code",
   "execution_count": 159,
   "id": "2c6cf943",
   "metadata": {},
   "outputs": [
    {
     "name": "stdout",
     "output_type": "stream",
     "text": [
      "297 µs ± 46.6 µs per loop (mean ± std. dev. of 7 runs, 1,000 loops each)\n"
     ]
    }
   ],
   "source": [
    "%timeit L = [n ** 2 for n in range(1000)]       #코드의 소요시간측정 앞에 씀."
   ]
  },
  {
   "cell_type": "code",
   "execution_count": 160,
   "id": "a3be4edb",
   "metadata": {},
   "outputs": [],
   "source": [
    "%timeit?"
   ]
  },
  {
   "cell_type": "code",
   "execution_count": 161,
   "id": "f93e96ff",
   "metadata": {},
   "outputs": [],
   "source": [
    "%magic         # 파일 처리 등을 위해 파일 탐색기 작업 등을 수행 할 때 사용"
   ]
  },
  {
   "cell_type": "code",
   "execution_count": 162,
   "id": "056f6f62",
   "metadata": {},
   "outputs": [
    {
     "data": {
      "application/json": {
       "cell": {
        "!": "OSMagics",
        "HTML": "Other",
        "SVG": "Other",
        "bash": "Other",
        "capture": "ExecutionMagics",
        "cmd": "Other",
        "debug": "ExecutionMagics",
        "file": "Other",
        "html": "DisplayMagics",
        "javascript": "DisplayMagics",
        "js": "DisplayMagics",
        "latex": "DisplayMagics",
        "markdown": "DisplayMagics",
        "perl": "Other",
        "prun": "ExecutionMagics",
        "pypy": "Other",
        "python": "Other",
        "python2": "Other",
        "python3": "Other",
        "ruby": "Other",
        "script": "ScriptMagics",
        "sh": "Other",
        "svg": "DisplayMagics",
        "sx": "OSMagics",
        "system": "OSMagics",
        "time": "ExecutionMagics",
        "timeit": "ExecutionMagics",
        "writefile": "OSMagics"
       },
       "line": {
        "alias": "OSMagics",
        "alias_magic": "BasicMagics",
        "autoawait": "AsyncMagics",
        "autocall": "AutoMagics",
        "automagic": "AutoMagics",
        "autosave": "KernelMagics",
        "bookmark": "OSMagics",
        "cd": "OSMagics",
        "clear": "KernelMagics",
        "cls": "KernelMagics",
        "colors": "BasicMagics",
        "conda": "PackagingMagics",
        "config": "ConfigMagics",
        "connect_info": "KernelMagics",
        "copy": "Other",
        "ddir": "Other",
        "debug": "ExecutionMagics",
        "dhist": "OSMagics",
        "dirs": "OSMagics",
        "doctest_mode": "BasicMagics",
        "echo": "Other",
        "ed": "Other",
        "edit": "KernelMagics",
        "env": "OSMagics",
        "gui": "BasicMagics",
        "hist": "Other",
        "history": "HistoryMagics",
        "killbgscripts": "ScriptMagics",
        "ldir": "Other",
        "less": "KernelMagics",
        "load": "CodeMagics",
        "load_ext": "ExtensionMagics",
        "loadpy": "CodeMagics",
        "logoff": "LoggingMagics",
        "logon": "LoggingMagics",
        "logstart": "LoggingMagics",
        "logstate": "LoggingMagics",
        "logstop": "LoggingMagics",
        "ls": "Other",
        "lsmagic": "BasicMagics",
        "macro": "ExecutionMagics",
        "magic": "BasicMagics",
        "matplotlib": "PylabMagics",
        "mkdir": "Other",
        "more": "KernelMagics",
        "notebook": "BasicMagics",
        "page": "BasicMagics",
        "pastebin": "CodeMagics",
        "pdb": "ExecutionMagics",
        "pdef": "NamespaceMagics",
        "pdoc": "NamespaceMagics",
        "pfile": "NamespaceMagics",
        "pinfo": "NamespaceMagics",
        "pinfo2": "NamespaceMagics",
        "pip": "PackagingMagics",
        "popd": "OSMagics",
        "pprint": "BasicMagics",
        "precision": "BasicMagics",
        "prun": "ExecutionMagics",
        "psearch": "NamespaceMagics",
        "psource": "NamespaceMagics",
        "pushd": "OSMagics",
        "pwd": "OSMagics",
        "pycat": "OSMagics",
        "pylab": "PylabMagics",
        "qtconsole": "KernelMagics",
        "quickref": "BasicMagics",
        "recall": "HistoryMagics",
        "rehashx": "OSMagics",
        "reload_ext": "ExtensionMagics",
        "ren": "Other",
        "rep": "Other",
        "rerun": "HistoryMagics",
        "reset": "NamespaceMagics",
        "reset_selective": "NamespaceMagics",
        "rmdir": "Other",
        "run": "ExecutionMagics",
        "save": "CodeMagics",
        "sc": "OSMagics",
        "set_env": "OSMagics",
        "store": "StoreMagics",
        "sx": "OSMagics",
        "system": "OSMagics",
        "tb": "ExecutionMagics",
        "time": "ExecutionMagics",
        "timeit": "ExecutionMagics",
        "unalias": "OSMagics",
        "unload_ext": "ExtensionMagics",
        "who": "NamespaceMagics",
        "who_ls": "NamespaceMagics",
        "whos": "NamespaceMagics",
        "xdel": "NamespaceMagics",
        "xmode": "BasicMagics"
       }
      },
      "text/plain": [
       "Available line magics:\n",
       "%alias  %alias_magic  %autoawait  %autocall  %automagic  %autosave  %bookmark  %cd  %clear  %cls  %colors  %conda  %config  %connect_info  %copy  %ddir  %debug  %dhist  %dirs  %doctest_mode  %echo  %ed  %edit  %env  %gui  %hist  %history  %killbgscripts  %ldir  %less  %load  %load_ext  %loadpy  %logoff  %logon  %logstart  %logstate  %logstop  %ls  %lsmagic  %macro  %magic  %matplotlib  %mkdir  %more  %notebook  %page  %pastebin  %pdb  %pdef  %pdoc  %pfile  %pinfo  %pinfo2  %pip  %popd  %pprint  %precision  %prun  %psearch  %psource  %pushd  %pwd  %pycat  %pylab  %qtconsole  %quickref  %recall  %rehashx  %reload_ext  %ren  %rep  %rerun  %reset  %reset_selective  %rmdir  %run  %save  %sc  %set_env  %store  %sx  %system  %tb  %time  %timeit  %unalias  %unload_ext  %who  %who_ls  %whos  %xdel  %xmode\n",
       "\n",
       "Available cell magics:\n",
       "%%!  %%HTML  %%SVG  %%bash  %%capture  %%cmd  %%debug  %%file  %%html  %%javascript  %%js  %%latex  %%markdown  %%perl  %%prun  %%pypy  %%python  %%python2  %%python3  %%ruby  %%script  %%sh  %%svg  %%sx  %%system  %%time  %%timeit  %%writefile\n",
       "\n",
       "Automagic is ON, % prefix IS NOT needed for line magics."
      ]
     },
     "execution_count": 162,
     "metadata": {},
     "output_type": "execute_result"
    }
   ],
   "source": [
    "%lsmagic       # 사용가능한 매직 명령어 들을 보여준다."
   ]
  },
  {
   "cell_type": "code",
   "execution_count": 163,
   "id": "ab87298f",
   "metadata": {},
   "outputs": [
    {
     "data": {
      "text/plain": [
       "(1.5+0.5j)"
      ]
     },
     "execution_count": 163,
     "metadata": {},
     "output_type": "execute_result"
    }
   ],
   "source": [
    "a=[1,2,3]\n",
    "b=a\n",
    "b.append(4)\n",
    "\n",
    "c      # 아이디가 같다     리스트는 뮤터블 같은 객체"
   ]
  },
  {
   "cell_type": "code",
   "execution_count": 164,
   "id": "f787a93b",
   "metadata": {},
   "outputs": [
    {
     "name": "stdout",
     "output_type": "stream",
     "text": [
      "10 30\n",
      "2141863766608 2141863767248\n"
     ]
    }
   ],
   "source": [
    "a=10\n",
    "\n",
    "b=a\n",
    "b+=20\n",
    "print(a,b)\n",
    "print(id(a),id(b))    # 아이디가 다르다   int 는 임뮤터블"
   ]
  },
  {
   "cell_type": "code",
   "execution_count": 165,
   "id": "fd170b1b",
   "metadata": {},
   "outputs": [
    {
     "data": {
      "text/plain": [
       "2142049802624"
      ]
     },
     "execution_count": 165,
     "metadata": {},
     "output_type": "execute_result"
    }
   ],
   "source": [
    "x = ('apple', 'banana', 'cherry')\n",
    "id(x)        # 이 값은 객체의 메모리주소이고 매번 다르다"
   ]
  },
  {
   "cell_type": "code",
   "execution_count": 166,
   "id": "c09972d0",
   "metadata": {},
   "outputs": [
    {
     "data": {
      "text/plain": [
       "([1, 2, 3, 4, 5], 25)"
      ]
     },
     "execution_count": 166,
     "metadata": {},
     "output_type": "execute_result"
    }
   ],
   "source": [
    "w = [1, 2, 3,\n",
    "     4, 5]\n",
    "x = 4 + 3 + 5 + 6 \\\n",
    "    + 7\n",
    "w, x"
   ]
  },
  {
   "cell_type": "markdown",
   "id": "88592900",
   "metadata": {},
   "source": [
    "# input/Output"
   ]
  },
  {
   "cell_type": "code",
   "execution_count": 167,
   "id": "1771dfbb",
   "metadata": {},
   "outputs": [],
   "source": [
    "# x=input()        # 문자열로 받아들인다.\n",
    "# type(x),x,float(x)"
   ]
  },
  {
   "cell_type": "code",
   "execution_count": 168,
   "id": "c06ef0a6",
   "metadata": {},
   "outputs": [
    {
     "data": {
      "text/plain": [
       "5"
      ]
     },
     "execution_count": 168,
     "metadata": {},
     "output_type": "execute_result"
    }
   ],
   "source": [
    "3+2"
   ]
  },
  {
   "cell_type": "code",
   "execution_count": 169,
   "id": "a326a6ff",
   "metadata": {},
   "outputs": [
    {
     "name": "stdout",
     "output_type": "stream",
     "text": [
      "5\n"
     ]
    }
   ],
   "source": [
    "print(3+2)"
   ]
  },
  {
   "cell_type": "code",
   "execution_count": 170,
   "id": "6ea9b65f",
   "metadata": {},
   "outputs": [
    {
     "name": "stdout",
     "output_type": "stream",
     "text": [
      "We are the knight who say \"Ni!\"\n",
      "spam and eggs\n",
      "eggs and spam\n"
     ]
    }
   ],
   "source": [
    "print('We are the {} who say \"{}!\"'.format('knight','Ni'))\n",
    "print('{0} and {1}'.format('spam','eggs'))\n",
    "print('{1} and {0}'.format('spam','eggs'))\n",
    "\n",
    "# 문자열 사이에 변수의 값을 넣어주기 위해 사용\n"
   ]
  },
  {
   "cell_type": "code",
   "execution_count": 171,
   "id": "0a7f4900",
   "metadata": {},
   "outputs": [
    {
     "name": "stdout",
     "output_type": "stream",
     "text": [
      " 1   1      1\n",
      " 2   4      8\n",
      " 3   9     27\n",
      " 4  16     64\n"
     ]
    }
   ],
   "source": [
    "for x in range(1, 5):           # 자리수 2d,4d,6d\n",
    "    print('{0:2d} {1:3d} {2:6d}'.format(x, x*x, x*x*x))"
   ]
  },
  {
   "cell_type": "code",
   "execution_count": 172,
   "id": "5ed874d0",
   "metadata": {},
   "outputs": [
    {
     "name": "stdout",
     "output_type": "stream",
     "text": [
      "The value of pi is approximately 3.142.\n",
      "Shon       ==>       4127\n",
      "Jack       ==>       4098\n",
      "Debora     ==>       7678\n"
     ]
    }
   ],
   "source": [
    "# output formatting (2): f'{expression}'        문자열 안에 변수값을 쓸떄 진가 발휘\n",
    "import math\n",
    "\n",
    "print(f'The value of pi is approximately {math.pi:.3f}.')\n",
    "\n",
    "table = {'Shon': 4127, 'Jack': 4098, 'Debora': 7678}\n",
    "for name, phone in table.items():\n",
    "    print(f'{name:10} ==> {phone:10d}')"
   ]
  },
  {
   "cell_type": "code",
   "execution_count": 173,
   "id": "95fc7405",
   "metadata": {},
   "outputs": [
    {
     "name": "stdout",
     "output_type": "stream",
     "text": [
      "The value of pi is approximately 3.142.\n"
     ]
    }
   ],
   "source": [
    "# output formatting (3): 'string' % values\n",
    "# - old type\n",
    "\n",
    "import math\n",
    "print('The value of pi is approximately %5.3f.' % math.pi)  # 총 5자리에 소숫점 3개"
   ]
  },
  {
   "cell_type": "markdown",
   "id": "d9c1605e",
   "metadata": {},
   "source": [
    "# Basic Types and Built-in Functions"
   ]
  },
  {
   "cell_type": "code",
   "execution_count": 174,
   "id": "84b4dc63",
   "metadata": {},
   "outputs": [
    {
     "data": {
      "text/plain": [
       "(9, 9, True, 9, 9, str, int, '0b1001')"
      ]
     },
     "execution_count": 174,
     "metadata": {},
     "output_type": "execute_result"
    }
   ],
   "source": [
    "a=0b1001     # 이진수 표현\n",
    "b=9              #bin 은 이진수 문자열로 돌려줌\n",
    "a,b,a==b,int(a), int(b), type(bin(a)), type(a) , bin(a) "
   ]
  },
  {
   "cell_type": "code",
   "execution_count": 175,
   "id": "04073002",
   "metadata": {},
   "outputs": [
    {
     "data": {
      "text/plain": [
       "('0x1b', 9, 9)"
      ]
     },
     "execution_count": 175,
     "metadata": {},
     "output_type": "execute_result"
    }
   ],
   "source": [
    "hex(3*a),int(a),a #hex 은 16진수 문자열로 돌려줌"
   ]
  },
  {
   "cell_type": "code",
   "execution_count": 176,
   "id": "09e6a951",
   "metadata": {},
   "outputs": [
    {
     "data": {
      "text/plain": [
       "'0b1001'"
      ]
     },
     "execution_count": 176,
     "metadata": {},
     "output_type": "execute_result"
    }
   ],
   "source": [
    "bin(0b1001 & 0b1111)"
   ]
  },
  {
   "cell_type": "code",
   "execution_count": 177,
   "id": "37ebcf78",
   "metadata": {},
   "outputs": [
    {
     "data": {
      "text/plain": [
       "9"
      ]
     },
     "execution_count": 177,
     "metadata": {},
     "output_type": "execute_result"
    }
   ],
   "source": [
    "a"
   ]
  },
  {
   "cell_type": "code",
   "execution_count": 178,
   "id": "b7ac4c18",
   "metadata": {},
   "outputs": [
    {
     "name": "stderr",
     "output_type": "stream",
     "text": [
      "<>:1: SyntaxWarning: \"is\" with a literal. Did you mean \"==\"?\n",
      "<>:1: SyntaxWarning: \"is not\" with a literal. Did you mean \"!=\"?\n",
      "<>:1: SyntaxWarning: \"is\" with a literal. Did you mean \"==\"?\n",
      "<>:1: SyntaxWarning: \"is\" with a literal. Did you mean \"==\"?\n",
      "<>:1: SyntaxWarning: \"is not\" with a literal. Did you mean \"!=\"?\n",
      "<>:1: SyntaxWarning: \"is\" with a literal. Did you mean \"==\"?\n",
      "C:\\Users\\acyc0\\AppData\\Local\\Temp\\ipykernel_4772\\368679656.py:1: SyntaxWarning: \"is\" with a literal. Did you mean \"==\"?\n",
      "  3 is 4, 9 is not a,9 is a      # ==은 오직 값만 확인 is 는 참조가 같은지\n",
      "C:\\Users\\acyc0\\AppData\\Local\\Temp\\ipykernel_4772\\368679656.py:1: SyntaxWarning: \"is not\" with a literal. Did you mean \"!=\"?\n",
      "  3 is 4, 9 is not a,9 is a      # ==은 오직 값만 확인 is 는 참조가 같은지\n",
      "C:\\Users\\acyc0\\AppData\\Local\\Temp\\ipykernel_4772\\368679656.py:1: SyntaxWarning: \"is\" with a literal. Did you mean \"==\"?\n",
      "  3 is 4, 9 is not a,9 is a      # ==은 오직 값만 확인 is 는 참조가 같은지\n"
     ]
    },
    {
     "data": {
      "text/plain": [
       "(False, False, True)"
      ]
     },
     "execution_count": 178,
     "metadata": {},
     "output_type": "execute_result"
    }
   ],
   "source": [
    "3 is 4, 9 is not a,9 is a      # ==은 오직 값만 확인 is 는 참조가 같은지\n",
    "#  결론: 값과 참조 모두 비교하고 싶으면  is 값만 비교하고 싶으면 =="
   ]
  },
  {
   "cell_type": "code",
   "execution_count": 179,
   "id": "f9aa3f30",
   "metadata": {},
   "outputs": [
    {
     "data": {
      "text/plain": [
       "([1, 2, 3, 4], [1, 2, 3, 4], True, False, 2142045744576, 2142043236032)"
      ]
     },
     "execution_count": 179,
     "metadata": {},
     "output_type": "execute_result"
    }
   ],
   "source": [
    "x=[1,2,3]\n",
    "x.append(4)\n",
    "y=[1,2,3,4]\n",
    "x,y,x==y,x is y, id(x), id(y)"
   ]
  },
  {
   "cell_type": "code",
   "execution_count": 180,
   "id": "8f7d7c0f",
   "metadata": {},
   "outputs": [
    {
     "name": "stdout",
     "output_type": "stream",
     "text": [
      "2\n",
      "<class 'int'>\n",
      "3.5\n",
      "3\n",
      "<class 'int'> <class 'float'>\n"
     ]
    }
   ],
   "source": [
    "print(1+1)\n",
    "\n",
    "x=3\n",
    "print(type(x))\n",
    "\n",
    "y=0.5\n",
    "print(x+y)\n",
    "\n",
    "print(x)\n",
    "print(type(x),type(y))"
   ]
  },
  {
   "cell_type": "code",
   "execution_count": 181,
   "id": "9cd95ff7",
   "metadata": {},
   "outputs": [
    {
     "data": {
      "text/plain": [
       "3"
      ]
     },
     "execution_count": 181,
     "metadata": {},
     "output_type": "execute_result"
    }
   ],
   "source": [
    "(3>4) +3"
   ]
  },
  {
   "cell_type": "code",
   "execution_count": 182,
   "id": "c4f32fba",
   "metadata": {},
   "outputs": [
    {
     "data": {
      "text/plain": [
       "(1.5, 1, 1)"
      ]
     },
     "execution_count": 182,
     "metadata": {},
     "output_type": "execute_result"
    }
   ],
   "source": [
    "3/2,3//2,3%2"
   ]
  },
  {
   "cell_type": "code",
   "execution_count": 183,
   "id": "c84aab5a",
   "metadata": {},
   "outputs": [
    {
     "data": {
      "text/plain": [
       "(False, bool)"
      ]
     },
     "execution_count": 183,
     "metadata": {},
     "output_type": "execute_result"
    }
   ],
   "source": [
    "test=(3>4)\n",
    "test,type(test)"
   ]
  },
  {
   "cell_type": "code",
   "execution_count": 184,
   "id": "3924e9c9",
   "metadata": {},
   "outputs": [
    {
     "data": {
      "text/plain": [
       "(False, True)"
      ]
     },
     "execution_count": 184,
     "metadata": {},
     "output_type": "execute_result"
    }
   ],
   "source": [
    "a = True\n",
    "b = False\n",
    "a & b, a | b"
   ]
  },
  {
   "cell_type": "code",
   "execution_count": 185,
   "id": "97caa546",
   "metadata": {},
   "outputs": [
    {
     "data": {
      "text/plain": [
       "(3, 4, 15)"
      ]
     },
     "execution_count": 185,
     "metadata": {},
     "output_type": "execute_result"
    }
   ],
   "source": [
    "b+3,a + 3 + b , a + a + a + a + a + 10"
   ]
  },
  {
   "cell_type": "code",
   "execution_count": 186,
   "id": "8dbe6b0d",
   "metadata": {},
   "outputs": [
    {
     "data": {
      "text/plain": [
       "(1000000.0, 0.001, float, float)"
      ]
     },
     "execution_count": 186,
     "metadata": {},
     "output_type": "execute_result"
    }
   ],
   "source": [
    "x = 1e6; y = 1e-3     # e 연산은 float형\n",
    "x, y, type(x), type(1.0)"
   ]
  },
  {
   "cell_type": "code",
   "execution_count": 187,
   "id": "01d4e202",
   "metadata": {},
   "outputs": [
    {
     "name": "stdout",
     "output_type": "stream",
     "text": [
      "1.5 0.5\n"
     ]
    },
    {
     "data": {
      "text/plain": [
       "((1.5+0.5j), complex)"
      ]
     },
     "execution_count": 187,
     "metadata": {},
     "output_type": "execute_result"
    }
   ],
   "source": [
    "# complex numbers\n",
    "c = 1.5 + 0.5j\n",
    "print(c.real, c.imag)\n",
    "c, type(c)"
   ]
  },
  {
   "cell_type": "markdown",
   "id": "8cf94dd2",
   "metadata": {},
   "source": [
    "# Some of Python built-in functions"
   ]
  },
  {
   "cell_type": "code",
   "execution_count": 188,
   "id": "d4b7f472",
   "metadata": {},
   "outputs": [
    {
     "data": {
      "text/plain": [
       "(False, True)"
      ]
     },
     "execution_count": 188,
     "metadata": {},
     "output_type": "execute_result"
    }
   ],
   "source": [
    "a = 3\n",
    "b = 4\n",
    "a is b, a is not b"
   ]
  },
  {
   "cell_type": "code",
   "execution_count": 189,
   "id": "0dd0035f",
   "metadata": {},
   "outputs": [
    {
     "data": {
      "text/plain": [
       "(True, True)"
      ]
     },
     "execution_count": 189,
     "metadata": {},
     "output_type": "execute_result"
    }
   ],
   "source": [
    "# membership operators\n",
    "a = [1,2,3,4]\n",
    "b = 3\n",
    "b in a, 5 not in a"
   ]
  },
  {
   "cell_type": "code",
   "execution_count": 190,
   "id": "7d26b6b2",
   "metadata": {},
   "outputs": [
    {
     "data": {
      "text/plain": [
       "False"
      ]
     },
     "execution_count": 190,
     "metadata": {},
     "output_type": "execute_result"
    }
   ],
   "source": [
    "a, b = 3, 4\n",
    "a > b or a == b"
   ]
  },
  {
   "cell_type": "code",
   "execution_count": 191,
   "id": "8059feb9",
   "metadata": {},
   "outputs": [
    {
     "data": {
      "text/plain": [
       "'C:\\\\Users\\\\acyc0\\\\anaconda3\\\\lib\\\\string.py'"
      ]
     },
     "execution_count": 191,
     "metadata": {},
     "output_type": "execute_result"
    }
   ],
   "source": [
    "#### for my reference \n",
    "a = \"77777\"\n",
    "import string\n",
    "string.__file__   # __file__: imported 된 모듈의 path 를 지정하는 변수\n",
    "\n",
    "# !type C:\\\\Users\\\\rta_note\\\\Anaconda3\\\\lib\\\\string.py"
   ]
  },
  {
   "cell_type": "markdown",
   "id": "9dc22a10",
   "metadata": {},
   "source": [
    "# Container Variables\n",
    "- string\n",
    "- list: mutable\n",
    "- tuple\n",
    "- dictionary (dict): mutable\n",
    "- set"
   ]
  },
  {
   "cell_type": "markdown",
   "id": "8bf6cb86",
   "metadata": {},
   "source": [
    "## strings\n",
    "- case: s.capitalize(),s.lower(),s.swapcase(),s.title(),s.upper()\n",
    "- Conditions: s.isalnum,s.isalpha,s.isdigit,s.isupper, s.islower, s.istitle,s.isspace\n",
    "- Basic search: s.startswith(), s.endswith(),s.find(), s.index(), s.rfind(),s.rindex()\n",
    "- Format:s.format\n",
    "- Split: s.split(), s.rsplit,s.partition\n",
    "- Strip: s.strip(), s.lstrip, s.rstrip\n",
    "- Replace: s.replace()\n",
    "- Join: s.join(t) joins the strings in sequence t with s as a separator"
   ]
  },
  {
   "cell_type": "code",
   "execution_count": 192,
   "id": "1b9b4ee9",
   "metadata": {},
   "outputs": [
    {
     "data": {
      "text/plain": [
       "['__add__',\n",
       " '__class__',\n",
       " '__contains__',\n",
       " '__delattr__',\n",
       " '__dir__',\n",
       " '__doc__',\n",
       " '__eq__',\n",
       " '__format__',\n",
       " '__ge__',\n",
       " '__getattribute__',\n",
       " '__getitem__',\n",
       " '__getnewargs__',\n",
       " '__gt__',\n",
       " '__hash__',\n",
       " '__init__',\n",
       " '__init_subclass__',\n",
       " '__iter__',\n",
       " '__le__',\n",
       " '__len__',\n",
       " '__lt__',\n",
       " '__mod__',\n",
       " '__mul__',\n",
       " '__ne__',\n",
       " '__new__',\n",
       " '__reduce__',\n",
       " '__reduce_ex__',\n",
       " '__repr__',\n",
       " '__rmod__',\n",
       " '__rmul__',\n",
       " '__setattr__',\n",
       " '__sizeof__',\n",
       " '__str__',\n",
       " '__subclasshook__',\n",
       " 'capitalize',\n",
       " 'casefold',\n",
       " 'center',\n",
       " 'count',\n",
       " 'encode',\n",
       " 'endswith',\n",
       " 'expandtabs',\n",
       " 'find',\n",
       " 'format',\n",
       " 'format_map',\n",
       " 'index',\n",
       " 'isalnum',\n",
       " 'isalpha',\n",
       " 'isascii',\n",
       " 'isdecimal',\n",
       " 'isdigit',\n",
       " 'isidentifier',\n",
       " 'islower',\n",
       " 'isnumeric',\n",
       " 'isprintable',\n",
       " 'isspace',\n",
       " 'istitle',\n",
       " 'isupper',\n",
       " 'join',\n",
       " 'ljust',\n",
       " 'lower',\n",
       " 'lstrip',\n",
       " 'maketrans',\n",
       " 'partition',\n",
       " 'removeprefix',\n",
       " 'removesuffix',\n",
       " 'replace',\n",
       " 'rfind',\n",
       " 'rindex',\n",
       " 'rjust',\n",
       " 'rpartition',\n",
       " 'rsplit',\n",
       " 'rstrip',\n",
       " 'split',\n",
       " 'splitlines',\n",
       " 'startswith',\n",
       " 'strip',\n",
       " 'swapcase',\n",
       " 'title',\n",
       " 'translate',\n",
       " 'upper',\n",
       " 'zfill']"
      ]
     },
     "execution_count": 192,
     "metadata": {},
     "output_type": "execute_result"
    }
   ],
   "source": [
    "dir(s)"
   ]
  },
  {
   "cell_type": "code",
   "execution_count": 193,
   "id": "44bcc416",
   "metadata": {},
   "outputs": [
    {
     "data": {
      "text/plain": [
       "('Hello', 'HELLO', 'hello', 'HEllO', 'HIHI', 'hihi', 'Hello')"
      ]
     },
     "execution_count": 193,
     "metadata": {},
     "output_type": "execute_result"
    }
   ],
   "source": [
    "s =\"heLLo\"\n",
    "ss=\"hihi\"\n",
    "sss=\"HIHI\"\n",
    "s.capitalize(), s.upper(), s.lower(), s.swapcase(),ss.swapcase(), sss.swapcase(),s.title()\n",
    "# swapcase() 는 소->, 대->소 로 변환  title함수는 앞문자만 대문자로 변환"
   ]
  },
  {
   "cell_type": "code",
   "execution_count": 194,
   "id": "80e12367",
   "metadata": {},
   "outputs": [
    {
     "data": {
      "text/plain": [
       "(True, True, False, False, False, False)"
      ]
     },
     "execution_count": 194,
     "metadata": {},
     "output_type": "execute_result"
    }
   ],
   "source": [
    "s.isalnum(), s.isalpha(), s.isdigit(), s.islower(), s.istitle(),s.isspace()\n",
    "#문자열이 숫자,영어 혹은 한글로 되어있는가?\n",
    "#문자열이 영어 혹은 한글로 되어있는가?\n",
    "#숫자로만 이루어 져있는가?\n",
    "#대문자인지 소문자인지 구분\n",
    "#문자열의 첫글자만 대문자인가?\n",
    "#문자열이 공백을 포함하면 True"
   ]
  },
  {
   "cell_type": "code",
   "execution_count": 195,
   "id": "cf5a0da6",
   "metadata": {},
   "outputs": [
    {
     "name": "stdout",
     "output_type": "stream",
     "text": [
      "9 9\n",
      "24 24\n"
     ]
    },
    {
     "data": {
      "text/plain": [
       "(False, True)"
      ]
     },
     "execution_count": 195,
     "metadata": {},
     "output_type": "execute_result"
    }
   ],
   "source": [
    "s1 = \"animals: cat, dog, cat, cat, wow!!!\";\n",
    "s2 = \"cat\";\n",
    "\n",
    "print (s1.find(s2), s1.index(s2))     # 첫번째 문자열 위치 찾기\n",
    "print (s1.rfind(s2), s1.rindex(s2))   # 마지막 문자열 위치 찾기\n",
    "s2.startswith('d'), s2.endswith('t') #시작하는 문자와 마지막 문자가 맞냐 아니냐"
   ]
  },
  {
   "cell_type": "code",
   "execution_count": 196,
   "id": "400f0287",
   "metadata": {},
   "outputs": [
    {
     "data": {
      "text/plain": [
       "'Too many spaces.'"
      ]
     },
     "execution_count": 196,
     "metadata": {},
     "output_type": "execute_result"
    }
   ],
   "source": [
    "\"    Too many spaces.     \".strip()   #공백제거"
   ]
  },
  {
   "cell_type": "code",
   "execution_count": 197,
   "id": "a0dffa46",
   "metadata": {},
   "outputs": [
    {
     "data": {
      "text/plain": [
       "'HeeLO'"
      ]
     },
     "execution_count": 197,
     "metadata": {},
     "output_type": "execute_result"
    }
   ],
   "source": [
    "\"HELLO\".replace(\"EL\",'ee') "
   ]
  },
  {
   "cell_type": "code",
   "execution_count": 198,
   "id": "4bacc639",
   "metadata": {},
   "outputs": [
    {
     "name": "stdout",
     "output_type": "stream",
     "text": [
      "i am home ['i', 'am', 'home'] i : am : youngchul ['i ', ' am ', ' youngchul']\n"
     ]
    }
   ],
   "source": [
    "x=\"i am home\"\n",
    "xx=\"i : am : youngchul\"\n",
    "y=x.split(' ')    # ' '(공백)을 기준으로 문자열을 나눈다.\n",
    "z=xx.split(':')   # ' :'기준으로 문자열을 나눈다.\n",
    "print(x,y,xx,z)\n"
   ]
  },
  {
   "cell_type": "code",
   "execution_count": 199,
   "id": "7f1afed5",
   "metadata": {},
   "outputs": [
    {
     "data": {
      "text/plain": [
       "'1:2:3'"
      ]
     },
     "execution_count": 199,
     "metadata": {},
     "output_type": "execute_result"
    }
   ],
   "source": [
    "\":\".join(['1', '2', '3'])  #리스트를 문자열로 일정하게 합쳐준다.//그 사이사이 : 가 들어간다."
   ]
  },
  {
   "cell_type": "code",
   "execution_count": 200,
   "id": "325be53d",
   "metadata": {},
   "outputs": [
    {
     "data": {
      "text/plain": [
       "'Hello,\\n    how are you'"
      ]
     },
     "execution_count": 200,
     "metadata": {},
     "output_type": "execute_result"
    }
   ],
   "source": [
    "s = 'Hello, how are you?'\n",
    "s = \"Hi, what's up\"\n",
    "s = '''Hello,\n",
    "    how are you'''        # '''    '''  이 사사이에 문자열을 넣으면 한줄에 안적어도 된다.\n",
    " \n",
    "s\n",
    "\n",
    "# w = [1, 2, 3,\n",
    "#      4, 5]\n",
    "# x = 4 + 3 + 5 + 6 \\        # 줄을 넘길때 \\사용\n",
    "#     + 7\n",
    "# w, x"
   ]
  },
  {
   "cell_type": "code",
   "execution_count": 201,
   "id": "632747b9",
   "metadata": {},
   "outputs": [
    {
     "data": {
      "text/plain": [
       "'lo,'"
      ]
     },
     "execution_count": 201,
     "metadata": {},
     "output_type": "execute_result"
    }
   ],
   "source": [
    "a = \"hello, world!\"\n",
    "a[3:6]     "
   ]
  },
  {
   "cell_type": "code",
   "execution_count": 202,
   "id": "51977c12",
   "metadata": {},
   "outputs": [
    {
     "data": {
      "text/plain": [
       "'lo o'"
      ]
     },
     "execution_count": 202,
     "metadata": {},
     "output_type": "execute_result"
    }
   ],
   "source": [
    "a[2:10:2]  #2번부터 9번포함까지 2칸씩 건너뛰어 "
   ]
  },
  {
   "cell_type": "code",
   "execution_count": 203,
   "id": "febc0316",
   "metadata": {},
   "outputs": [
    {
     "data": {
      "text/plain": [
       "'hl r!'"
      ]
     },
     "execution_count": 203,
     "metadata": {},
     "output_type": "execute_result"
    }
   ],
   "source": [
    "a[::3]          # 없으면 처음, 끝 까지 3칸씩"
   ]
  },
  {
   "cell_type": "code",
   "execution_count": 204,
   "id": "7894fad2",
   "metadata": {},
   "outputs": [],
   "source": [
    "# a = \"hello, world!\"\n",
    "# a[2] = 'z'              #문자열은 임뮤터블이어서 변경 불가"
   ]
  },
  {
   "cell_type": "code",
   "execution_count": 205,
   "id": "20b137d5",
   "metadata": {},
   "outputs": [
    {
     "data": {
      "text/plain": [
       "('hello, world!', 'hezzo, world!', 2142049803760, 2142049607728)"
      ]
     },
     "execution_count": 205,
     "metadata": {},
     "output_type": "execute_result"
    }
   ],
   "source": [
    "b = a.replace('l', 'z', 2)  # l을 z로 2(변경할 횟수)\n",
    "a, b, id(a), id(b)"
   ]
  },
  {
   "cell_type": "code",
   "execution_count": 206,
   "id": "7e9cf49e",
   "metadata": {},
   "outputs": [
    {
     "data": {
      "text/plain": [
       "'hezzo, worzd!'"
      ]
     },
     "execution_count": 206,
     "metadata": {},
     "output_type": "execute_result"
    }
   ],
   "source": [
    "a.replace('l', 'z')  # 없으면 전부 변경"
   ]
  },
  {
   "cell_type": "code",
   "execution_count": 207,
   "id": "3b244774",
   "metadata": {},
   "outputs": [
    {
     "name": "stdout",
     "output_type": "stream",
     "text": [
      "b\n",
      "a\n",
      "n\n",
      "a\n",
      "n\n",
      "a\n"
     ]
    }
   ],
   "source": [
    "for x in \"banana\":\n",
    "    print(x)"
   ]
  },
  {
   "cell_type": "markdown",
   "id": "1616c219",
   "metadata": {},
   "source": [
    "# 반복가능한 변수와 반복자\n",
    "-반복 가능한 객체: 리스트, 튜플, 사전 및 문자열   \n",
    "-반복자: 셀 수 있는 개수의 값을 포함하는 개체"
   ]
  },
  {
   "cell_type": "code",
   "execution_count": 208,
   "id": "2bc213b9",
   "metadata": {},
   "outputs": [],
   "source": [
    "mytuple = (\"apple\", \"banana\", \"cherry\")\n",
    "myit = iter(mytuple)"
   ]
  },
  {
   "cell_type": "code",
   "execution_count": 209,
   "id": "5f1a66ac",
   "metadata": {},
   "outputs": [
    {
     "data": {
      "text/plain": [
       "('apple', 'banana', 'cherry')"
      ]
     },
     "execution_count": 209,
     "metadata": {},
     "output_type": "execute_result"
    }
   ],
   "source": [
    "next(myit), next(myit), next(myit)"
   ]
  },
  {
   "cell_type": "code",
   "execution_count": 210,
   "id": "77366690",
   "metadata": {},
   "outputs": [],
   "source": [
    "#next(myit)      # 반복이 끝이나서 오류 발생"
   ]
  },
  {
   "cell_type": "code",
   "execution_count": 211,
   "id": "a242ce47",
   "metadata": {},
   "outputs": [
    {
     "name": "stdout",
     "output_type": "stream",
     "text": [
      "apple\n",
      "banana\n",
      "cherry\n"
     ]
    }
   ],
   "source": [
    "for x in mytuple:       # 반복문을 사용하여 반복가능한 객체를 사용한다\n",
    "    print(x)"
   ]
  },
  {
   "cell_type": "code",
   "execution_count": 212,
   "id": "ebb8ed9a",
   "metadata": {},
   "outputs": [
    {
     "name": "stdout",
     "output_type": "stream",
     "text": [
      "b\n",
      "a\n",
      "n\n",
      "a\n",
      "n\n",
      "a\n"
     ]
    }
   ],
   "source": [
    "mystr = \"banana\"\n",
    "for x in mystr:\n",
    "    print(x)"
   ]
  },
  {
   "cell_type": "code",
   "execution_count": 213,
   "id": "18e60057",
   "metadata": {},
   "outputs": [
    {
     "data": {
      "text/plain": [
       "([0, 1, 2, 3], [0, 1, 2, 3], [0, 1, 2, 3], [3, 2, 1], [0, 2], 3)"
      ]
     },
     "execution_count": 213,
     "metadata": {},
     "output_type": "execute_result"
    }
   ],
   "source": [
    "a = [0,1,2,3]\n",
    "b=[1,2,3]\n",
    "a, a[:], a[::], a[-1:0:-1], a[::2], a[-1]"
   ]
  },
  {
   "cell_type": "code",
   "execution_count": 214,
   "id": "a353032f",
   "metadata": {},
   "outputs": [
    {
     "data": {
      "text/plain": [
       "(4, 3, 0, 6)"
      ]
     },
     "execution_count": 214,
     "metadata": {},
     "output_type": "execute_result"
    }
   ],
   "source": [
    "len(a), max(a), min(a), sum(a)"
   ]
  },
  {
   "cell_type": "code",
   "execution_count": 215,
   "id": "b8fd74c5",
   "metadata": {},
   "outputs": [],
   "source": [
    "#sum([1,2,3,'s'])         #문자열은 못더한다"
   ]
  },
  {
   "cell_type": "code",
   "execution_count": 216,
   "id": "a4acad9b",
   "metadata": {},
   "outputs": [
    {
     "data": {
      "text/plain": [
       "(True, False)"
      ]
     },
     "execution_count": 216,
     "metadata": {},
     "output_type": "execute_result"
    }
   ],
   "source": [
    "any(a), all(a)     # all 인자의 모든 요소가 참이면 참 반환 0이있어서 거짓 any는 하나만 있어도"
   ]
  },
  {
   "cell_type": "code",
   "execution_count": 217,
   "id": "0488981e",
   "metadata": {},
   "outputs": [
    {
     "data": {
      "text/plain": [
       "[0, 1, 2, 3]"
      ]
     },
     "execution_count": 217,
     "metadata": {},
     "output_type": "execute_result"
    }
   ],
   "source": [
    "a"
   ]
  },
  {
   "cell_type": "code",
   "execution_count": 218,
   "id": "b810c172",
   "metadata": {},
   "outputs": [
    {
     "name": "stdout",
     "output_type": "stream",
     "text": [
      "[0, 1, 4, 3]\n",
      "[0, 1, 4, 3, 3]\n",
      "[0, 3]\n"
     ]
    }
   ],
   "source": [
    "# assign and delete\n",
    "a[2] = 4;print(a)\n",
    "a.append(3); print(a)\n",
    "del (a[1:-1]); print(a)"
   ]
  },
  {
   "cell_type": "code",
   "execution_count": 219,
   "id": "28e57f23",
   "metadata": {},
   "outputs": [
    {
     "name": "stdout",
     "output_type": "stream",
     "text": [
      "5 1\n",
      "6 2\n",
      "7 3\n",
      "8 4\n",
      "\n",
      "1\n",
      "2\n",
      "3\n",
      "4\n"
     ]
    }
   ],
   "source": [
    "a = [1,2,3,4]\n",
    "for index, value in enumerate(a, 5):  # 인덱스를 표시해주는 enumerate ,   5는 시작인덱스\n",
    "    print( index, value)\n",
    "\n",
    "print()\n",
    "for value in a:\n",
    "    print (value)"
   ]
  },
  {
   "cell_type": "code",
   "execution_count": 220,
   "id": "38f4e058",
   "metadata": {},
   "outputs": [],
   "source": [
    "a = [1,2,3,4]\n",
    "b = ['a','b','c','d']"
   ]
  },
  {
   "cell_type": "code",
   "execution_count": 221,
   "id": "ab014a8a",
   "metadata": {},
   "outputs": [
    {
     "data": {
      "text/plain": [
       "zip"
      ]
     },
     "execution_count": 221,
     "metadata": {},
     "output_type": "execute_result"
    }
   ],
   "source": [
    "type(zip(a, b))   \n",
    "#zip은 반복가능한 객체를 인자로 받고 객체가 담고 있는 원소를 튜플 형태로 차례로 접근할 수 있는 반복자를 반환"
   ]
  },
  {
   "cell_type": "code",
   "execution_count": 222,
   "id": "8950bd4b",
   "metadata": {},
   "outputs": [
    {
     "name": "stdout",
     "output_type": "stream",
     "text": [
      "<class 'zip'>\n"
     ]
    },
    {
     "data": {
      "text/plain": [
       "(1, 'a')"
      ]
     },
     "execution_count": 222,
     "metadata": {},
     "output_type": "execute_result"
    }
   ],
   "source": [
    "print(type(zip(a,b)))         #이터레이터(iterator) : 값을 차례대로 꺼낼 수 있는 객체(object)\n",
    "zip(a,b).__next__()"
   ]
  },
  {
   "cell_type": "code",
   "execution_count": 223,
   "id": "24ac8283",
   "metadata": {},
   "outputs": [
    {
     "name": "stdout",
     "output_type": "stream",
     "text": [
      "(1, 'a')\n",
      "(2, 'b')\n",
      "(3, 'c')\n",
      "(4, 'd')\n"
     ]
    }
   ],
   "source": [
    "for x in zip(a,b):   \n",
    "#zip() 함수를 사용하면 옷의 지퍼를 올리는 것 처럼 양 측에 있는 데이터를 하나씩 차례로 짝을 만듬\n",
    "    print(x)\n",
    "    \n",
    "# >>> numbers = [1, 2, 3]\n",
    "# >>> letters = [\"A\", \"B\", \"C\"]\n",
    "# >>> for i in range(3):\n",
    "# ...     pair = (numbers[i], letters[i])\n",
    "# ...     print(pair)"
   ]
  },
  {
   "cell_type": "code",
   "execution_count": 224,
   "id": "46fda4ef",
   "metadata": {},
   "outputs": [
    {
     "name": "stdout",
     "output_type": "stream",
     "text": [
      "1 a\n",
      "2 b\n",
      "3 c\n",
      "4 d\n"
     ]
    }
   ],
   "source": [
    "for (x, y) in  zip(a, b): \n",
    "    print (x, y)"
   ]
  },
  {
   "cell_type": "code",
   "execution_count": 225,
   "id": "d791ad89",
   "metadata": {},
   "outputs": [
    {
     "data": {
      "text/plain": [
       "[1, 2, 4, 7, 9, 10]"
      ]
     },
     "execution_count": 225,
     "metadata": {},
     "output_type": "execute_result"
    }
   ],
   "source": [
    "a = [1,4,2,7,9,10]\n",
    "sorted(a)"
   ]
  },
  {
   "cell_type": "code",
   "execution_count": 226,
   "id": "56a3dbb9",
   "metadata": {},
   "outputs": [
    {
     "data": {
      "text/plain": [
       "[1, 4, 2, 7, 9, 10]"
      ]
     },
     "execution_count": 226,
     "metadata": {},
     "output_type": "execute_result"
    }
   ],
   "source": [
    "a"
   ]
  },
  {
   "cell_type": "code",
   "execution_count": 227,
   "id": "87152705",
   "metadata": {},
   "outputs": [
    {
     "name": "stdout",
     "output_type": "stream",
     "text": [
      "<list_reverseiterator object at 0x000001F2BB761550>\n",
      "10\n",
      "9\n",
      "7\n",
      "2\n",
      "4\n",
      "1\n"
     ]
    }
   ],
   "source": [
    "print(reversed(a))   #\n",
    "\n",
    "for x in reversed(a):\n",
    "    print (x)"
   ]
  },
  {
   "cell_type": "code",
   "execution_count": 228,
   "id": "a771b5ee",
   "metadata": {},
   "outputs": [
    {
     "data": {
      "text/plain": [
       "[1, 2, 3, 4]"
      ]
     },
     "execution_count": 228,
     "metadata": {},
     "output_type": "execute_result"
    }
   ],
   "source": [
    "b=[1,2,3,4]       # reverse는 값을 반환하진 않고 단순히 해당 리스트를 뒤집어준다.\n",
    "b"
   ]
  },
  {
   "cell_type": "code",
   "execution_count": 229,
   "id": "2260d842",
   "metadata": {},
   "outputs": [
    {
     "data": {
      "text/plain": [
       "[4, 3, 2, 1]"
      ]
     },
     "execution_count": 229,
     "metadata": {},
     "output_type": "execute_result"
    }
   ],
   "source": [
    "b.reverse()\n",
    "b"
   ]
  },
  {
   "cell_type": "code",
   "execution_count": 230,
   "id": "67cda4f0",
   "metadata": {},
   "outputs": [
    {
     "name": "stdout",
     "output_type": "stream",
     "text": [
      "[1, 2, 4, 7, 9, 10]\n"
     ]
    }
   ],
   "source": [
    "a.sort(reverse=False); print(a)  #오름차순 True 면 내림차순\n",
    "# :(세미콜론) 은 한줄에 여러문장을 사용할 때 사용"
   ]
  },
  {
   "cell_type": "code",
   "execution_count": 231,
   "id": "e12ec0c1",
   "metadata": {},
   "outputs": [
    {
     "name": "stdout",
     "output_type": "stream",
     "text": [
      "abug\n",
      "['u', 'g', 'b', 'a'] abug\n",
      "[10, 7, 4, 3, 2, 1] [1, 3, 4, 2, 10, 7]\n",
      "None [10, 7, 4, 3, 2, 1]\n"
     ]
    }
   ],
   "source": [
    "s = \"abug\"\n",
    "print(s)\n",
    "print(sorted(s, reverse=True), s)\n",
    "d = [1,3,4,2,10,7]\n",
    "print(sorted(d, reverse=True), d)\n",
    "print(d.sort(reverse=True), d)       #sort는 리스트의 메소드이다."
   ]
  },
  {
   "cell_type": "markdown",
   "id": "550c33ab",
   "metadata": {},
   "source": [
    "# Lists\n",
    "- ordered sequence of information, accedible by index\n",
    "- mutable\n",
    "- 여러 항목의 집합체로 각 항목의 타입은 서로 달라도 된다.\n",
    "- L.append(x): Appends an object x to the end of L\n",
    "- L.extend(t):Appends each element of t to the end of L   \n",
    "- L.count(x): Count occurrences of x in L\n",
    "- L.index(x): Returns smallest index i where L[i] == x\n",
    "- L.insert(i,x): Inserts x at index i\n",
    "- L.pop([i]): Returns the ith element of L and removes; if i is omitted, the\n",
    "last element is popped\n",
    "- L.remove(x): Removes the first instance of x from L\n",
    "- L.reverse(): Reverses items of L in place\n",
    "- L.sort(): Sorts (in ascending order) items of L in place"
   ]
  },
  {
   "attachments": {
    "image.png": {
     "image/png": "[encoded data removed]"
    }
   },
   "cell_type": "markdown",
   "id": "08d5bdb0",
   "metadata": {},
   "source": [
    "- ![image.png](attachment:image.png)   "
   ]
  },
  {
   "cell_type": "markdown",
   "id": "b6227957",
   "metadata": {},
   "source": [
    "#문자열에서 'k'가 몇개 있는지 ?   \n",
    "print('#1 a.count(\"k\")')   \n",
    "print(a.count('k'))\n",
    "\n",
    "#문자열에서 'DM'가 몇개 있는지 ?   \n",
    "print('#2 a.count(\"DM\")')   \n",
    "print(a.count('DM'))"
   ]
  },
  {
   "cell_type": "markdown",
   "id": "fe0a7190",
   "metadata": {},
   "source": [
    "array.insert(i, x) 형태로 사용한다. array의 원하는 위치 i 앞에 추가할 값 x를 삽입할 수 있다. \n",
    "nums = [1, 2, 3]   \n",
    "ums.insert(0, [10, 20])  # 0번째(맨앞에) 추가   \n",
    "[[10, 20], 1, 2, 3]"
   ]
  },
  {
   "cell_type": "code",
   "execution_count": 232,
   "id": "ab636f47",
   "metadata": {},
   "outputs": [
    {
     "data": {
      "text/plain": [
       "array([2, 4, 6])"
      ]
     },
     "execution_count": 232,
     "metadata": {},
     "output_type": "execute_result"
    }
   ],
   "source": [
    "import numpy as np\n",
    "item_2 = list([1,2,3])\n",
    "a = np.array(item_2)\n",
    "a*2                      # numpy로 배열로 변해서 값이 각각 두배가 됨"
   ]
  },
  {
   "cell_type": "code",
   "execution_count": 233,
   "id": "729da9f8",
   "metadata": {},
   "outputs": [
    {
     "data": {
      "text/plain": [
       "list"
      ]
     },
     "execution_count": 233,
     "metadata": {},
     "output_type": "execute_result"
    }
   ],
   "source": [
    "item_2 = list([1,2,3])\n",
    "type(item_2)"
   ]
  },
  {
   "cell_type": "code",
   "execution_count": 234,
   "id": "3449cb2b",
   "metadata": {},
   "outputs": [
    {
     "data": {
      "text/plain": [
       "[1, 2, 3, 4, 5, 'kim', 1, 2, 3, 4, 5, 'kim']"
      ]
     },
     "execution_count": 234,
     "metadata": {},
     "output_type": "execute_result"
    }
   ],
   "source": [
    "items = [1, 2, 3, 4, 5, 'kim']\n",
    "items*2                       # 리스트에 *2를 하며 두번 출력"
   ]
  },
  {
   "cell_type": "code",
   "execution_count": 235,
   "id": "f812f71b",
   "metadata": {},
   "outputs": [
    {
     "data": {
      "text/plain": [
       "6"
      ]
     },
     "execution_count": 235,
     "metadata": {},
     "output_type": "execute_result"
    }
   ],
   "source": [
    "len(items)"
   ]
  },
  {
   "cell_type": "code",
   "execution_count": 236,
   "id": "e6b902e1",
   "metadata": {},
   "outputs": [
    {
     "data": {
      "text/plain": [
       "(1, 'kim')"
      ]
     },
     "execution_count": 236,
     "metadata": {},
     "output_type": "execute_result"
    }
   ],
   "source": [
    "items[0], items[-1]"
   ]
  },
  {
   "cell_type": "code",
   "execution_count": 237,
   "id": "77713597",
   "metadata": {},
   "outputs": [
    {
     "data": {
      "text/plain": [
       "[1, 2, 100, 4, 5, 'kim']"
      ]
     },
     "execution_count": 237,
     "metadata": {},
     "output_type": "execute_result"
    }
   ],
   "source": [
    "# 2-번째 항목을 값을 바꾸었다.\n",
    "items[2]=100   # mutable\n",
    "items"
   ]
  },
  {
   "cell_type": "code",
   "execution_count": 238,
   "id": "4c881c87",
   "metadata": {},
   "outputs": [
    {
     "data": {
      "text/plain": [
       "[1, 2]"
      ]
     },
     "execution_count": 238,
     "metadata": {},
     "output_type": "execute_result"
    }
   ],
   "source": [
    "items[:2]      #처음부터 2인덱스 앞까지"
   ]
  },
  {
   "cell_type": "code",
   "execution_count": 239,
   "id": "2adf75a9",
   "metadata": {},
   "outputs": [
    {
     "data": {
      "text/plain": [
       "('kim', 5)"
      ]
     },
     "execution_count": 239,
     "metadata": {},
     "output_type": "execute_result"
    }
   ],
   "source": [
    "# 뒤에서부터 인덱싱할 때는 '-' 를 사용한다.\n",
    "items[-1], items[-2]"
   ]
  },
  {
   "cell_type": "code",
   "execution_count": 240,
   "id": "b435505d",
   "metadata": {
    "scrolled": true
   },
   "outputs": [
    {
     "data": {
      "text/plain": [
       "[100, 4, 5, 'kim']"
      ]
     },
     "execution_count": 240,
     "metadata": {},
     "output_type": "execute_result"
    }
   ],
   "source": [
    "# 리스트의 일부 구간만 얻으려면 슬라이스(slice) ':'를 사용한다\n",
    "items[2:]"
   ]
  },
  {
   "cell_type": "code",
   "execution_count": 241,
   "id": "ee38c456",
   "metadata": {},
   "outputs": [
    {
     "data": {
      "text/plain": [
       "2142045502656"
      ]
     },
     "execution_count": 241,
     "metadata": {},
     "output_type": "execute_result"
    }
   ],
   "source": [
    "id(items)"
   ]
  },
  {
   "cell_type": "code",
   "execution_count": 242,
   "id": "f1b6f464",
   "metadata": {},
   "outputs": [],
   "source": [
    "items.append('park')     # object 값이 바뀜에 주의.  "
   ]
  },
  {
   "cell_type": "markdown",
   "id": "0c2a1357",
   "metadata": {},
   "source": [
    "# 질문"
   ]
  },
  {
   "cell_type": "code",
   "execution_count": 243,
   "id": "aa7c3f43",
   "metadata": {},
   "outputs": [
    {
     "data": {
      "text/plain": [
       "2142045502656"
      ]
     },
     "execution_count": 243,
     "metadata": {},
     "output_type": "execute_result"
    }
   ],
   "source": [
    "id(items)"
   ]
  },
  {
   "cell_type": "code",
   "execution_count": 244,
   "id": "0920e5f0",
   "metadata": {},
   "outputs": [
    {
     "data": {
      "text/plain": [
       "[1, 2, 100, 4, 5, 'kim', 'park']"
      ]
     },
     "execution_count": 244,
     "metadata": {},
     "output_type": "execute_result"
    }
   ],
   "source": [
    "items"
   ]
  },
  {
   "cell_type": "code",
   "execution_count": 245,
   "id": "6143fcc4",
   "metadata": {},
   "outputs": [
    {
     "data": {
      "text/plain": [
       "([2, 3, 5, 6, 8], [3, 2, 5, 8, 6])"
      ]
     },
     "execution_count": 245,
     "metadata": {},
     "output_type": "execute_result"
    }
   ],
   "source": [
    "list_a = [3, 2, 5, 8, 6]\n",
    "sorted(list_a), list_a"
   ]
  },
  {
   "cell_type": "code",
   "execution_count": 246,
   "id": "7af9c30c",
   "metadata": {},
   "outputs": [
    {
     "data": {
      "text/plain": [
       "(None, [2, 3, 5, 6, 8])"
      ]
     },
     "execution_count": 246,
     "metadata": {},
     "output_type": "execute_result"
    }
   ],
   "source": [
    "list_a.sort(), list_a     # sert는 반환 X"
   ]
  },
  {
   "cell_type": "code",
   "execution_count": 247,
   "id": "705af4ac",
   "metadata": {},
   "outputs": [
    {
     "name": "stdout",
     "output_type": "stream",
     "text": [
      "[2, 1, 3]\n",
      "[2, 1, 3, [3.4]]\n",
      "[2, 1, 3, [3.4], 7, 3, 2]\n"
     ]
    },
    {
     "data": {
      "text/plain": [
       "[2, 1, 3, [3.4], 7, 3, 2, 4, 5, 6]"
      ]
     },
     "execution_count": 247,
     "metadata": {},
     "output_type": "execute_result"
    }
   ],
   "source": [
    "# operations on list - add\n",
    "L1 = [2,1,3]\n",
    "print(L1)\n",
    "L1.append([3.4])     \n",
    "print(L1)\n",
    "\n",
    "L1.extend([7,3,2]) \n",
    "print(L1)\n",
    "L2 = [4,5,6]\n",
    "L3 = L1 + L2\n",
    "L3"
   ]
  },
  {
   "cell_type": "code",
   "execution_count": 248,
   "id": "7e45faed",
   "metadata": {},
   "outputs": [
    {
     "name": "stdout",
     "output_type": "stream",
     "text": [
      "0\n",
      "[1, 3, 7]\n"
     ]
    }
   ],
   "source": [
    "# operations on list - remove\n",
    "L = [2,1,3,6,3,7,0]\n",
    "L.remove(2) # mutates L = [1,3,6,3,7,0]       #( )관호안의 2라는 숫자를 삭제\n",
    "L.remove(3) # mutates L = [1,6,3,7,0]\n",
    "del(L[1])   # mutates L = [1,3,7,0]    인덱스로 삭제\n",
    "print(L.pop())     # returns 0 and mutates L = [1,3,7]   ()가 없으면 마지막 삭제 후 값 반환\n",
    "print(L)"
   ]
  },
  {
   "cell_type": "code",
   "execution_count": 249,
   "id": "de63634b",
   "metadata": {},
   "outputs": [
    {
     "name": "stdout",
     "output_type": "stream",
     "text": [
      "[9, 6, 0, 3]\n",
      "[9, 6, 0, 3]\n",
      "[0, 3, 6, 9]\n",
      "[9, 6, 3, 0]\n"
     ]
    }
   ],
   "source": [
    "# other functions\n",
    "L=[9,6,0,3]\n",
    "print(L)\n",
    "sorted(L)   # returns sorted list, does not mutate L\n",
    "print(L)\n",
    "L.sort()    # mutates L=[0,3,6,9]    L을 바로 바꿈\n",
    "print(L)\n",
    "L.reverse() # mutates L=[9,6,3,0]   L을 바로 바꿈\n",
    "print(L)"
   ]
  },
  {
   "cell_type": "code",
   "execution_count": 250,
   "id": "952d0b0a",
   "metadata": {},
   "outputs": [
    {
     "name": "stdout",
     "output_type": "stream",
     "text": [
      "[2, 3, 4]\n"
     ]
    }
   ],
   "source": [
    "# mutation and iteration - be careful !\n",
    "# do not mutate a list as you iterating over it !\n",
    "def remove_dups(L1, L2):   # wrong code\n",
    "    for e in L1:\n",
    "        if e in L2:\n",
    "            L1.remove(e)\n",
    "L1 = [1,2,3,4]\n",
    "L2 = [1,2,5,6]\n",
    "remove_dups(L1, L2)   # L1 is [2,3,4] not [3,4], why?\n",
    "print(L1)"
   ]
  },
  {
   "cell_type": "markdown",
   "id": "7ee068c4",
   "metadata": {},
   "source": [
    "# 위에꺼 이해 귀찮"
   ]
  },
  {
   "cell_type": "markdown",
   "id": "a2c9aa1d",
   "metadata": {},
   "source": [
    "# 튜플\n",
    "- 소괄호로 만들거나 , 로 구분하여 나열한다."
   ]
  },
  {
   "cell_type": "code",
   "execution_count": 251,
   "id": "1cf2b4e4",
   "metadata": {},
   "outputs": [
    {
     "name": "stdout",
     "output_type": "stream",
     "text": [
      "(1, 2, 3, 4, 5, 'hello')\n"
     ]
    }
   ],
   "source": [
    "my_tuple = (1, 2, 3)\n",
    "your_tuple = 4, 5,\"hello\"\n",
    "print(my_tuple + your_tuple)"
   ]
  },
  {
   "cell_type": "code",
   "execution_count": 252,
   "id": "9fc8cfd2",
   "metadata": {},
   "outputs": [
    {
     "name": "stdout",
     "output_type": "stream",
     "text": [
      "3 4 100\n"
     ]
    }
   ],
   "source": [
    "a, b, c = 3, 4, 100\n",
    "print(a, b, c)"
   ]
  },
  {
   "cell_type": "markdown",
   "id": "cd1b36f9",
   "metadata": {},
   "source": [
    "# Set\n",
    "-  순서없이 저장하며 중복을 불허하는 데이터 모음  mutable"
   ]
  },
  {
   "cell_type": "code",
   "execution_count": 253,
   "id": "6ebc6654",
   "metadata": {},
   "outputs": [
    {
     "data": {
      "text/plain": [
       "{1, 2, 3}"
      ]
     },
     "execution_count": 253,
     "metadata": {},
     "output_type": "execute_result"
    }
   ],
   "source": [
    "s = set([1,2,3,1,2,3])\n",
    "s"
   ]
  },
  {
   "cell_type": "code",
   "execution_count": 254,
   "id": "bd731b46",
   "metadata": {},
   "outputs": [
    {
     "name": "stdout",
     "output_type": "stream",
     "text": [
      "None {1, 2, 3}\n",
      "None {2, 3}\n",
      "None {1, 2, 3, 4, 5, 6, 7}\n",
      "None {1, 2, 4, 5, 6, 7}\n",
      "None set()\n"
     ]
    }
   ],
   "source": [
    "print(s.add(1), s)           # set 관련 홤수들\n",
    "print(s.remove(1), s)       #특정 요소 삭제   그 요소가 없을 경우 에러 발생\n",
    "print(s.update([1,4,5,6,7]), s)    # 추가\n",
    "print(s.discard(3), s)             # 삭제       그 요소가 없어도 에러 발생 안함\n",
    "print(s.clear(), s)            "
   ]
  },
  {
   "cell_type": "code",
   "execution_count": 255,
   "id": "a4bbf742",
   "metadata": {},
   "outputs": [
    {
     "name": "stdout",
     "output_type": "stream",
     "text": [
      "{1, 2, 3, 4, 5} {3, 4, 5, 6, 7} <class 'set'> <class 'set'>\n",
      "{1, 2, 3, 4, 5, 6, 7} {1, 2, 3, 4, 5, 6, 7}\n",
      "{1, 2, 3, 4, 5, 6, 7}\n",
      "{3, 4, 5}\n",
      "{3, 4, 5}\n",
      "{1, 2}\n",
      "{1, 2}\n"
     ]
    }
   ],
   "source": [
    "s1 = set([1,2,3,4,5])\n",
    "s2 = {3,4,5,6,7}\n",
    "print(s1, s2, type(s1), type(s2))\n",
    "print(s1.union(s2), s2.union(s1))          #합집합\n",
    "print(s1 | s2)              \n",
    "print(s1.intersection(s2))          #교집합\n",
    "print(s1 & s2)\n",
    "print(s1.difference(s2))        #차집합\n",
    "print(s1 - s2)"
   ]
  },
  {
   "cell_type": "code",
   "execution_count": 256,
   "id": "8eea5d60",
   "metadata": {},
   "outputs": [
    {
     "name": "stdout",
     "output_type": "stream",
     "text": [
      "{'P', 't', 'h', 'n', 'o', 'y'}\n",
      "{'i', 'u', 'a', 'o', 'e'}\n",
      "{'i', 'u', 'a', 'o', 'e'}\n",
      "{0, 1, 2, 3, 4}\n"
     ]
    }
   ],
   "source": [
    "# the set() builtin creates a Python set from the given iterable.반복할수 있는 객체\n",
    "# from string\n",
    "print(set('Python'))\n",
    "# from tuple\n",
    "print(set(('a', 'e', 'i', 'o', 'u')))\n",
    "# from list\n",
    "print(set(['a', 'e', 'i', 'o', 'u']))\n",
    "# from range\n",
    "print(set(range(5)))"
   ]
  },
  {
   "cell_type": "code",
   "execution_count": 257,
   "id": "a66a147c",
   "metadata": {},
   "outputs": [
    {
     "data": {
      "text/plain": [
       "{1, 2, 3}"
      ]
     },
     "execution_count": 257,
     "metadata": {},
     "output_type": "execute_result"
    }
   ],
   "source": [
    "set([1,2,3]+[1,2,3])"
   ]
  },
  {
   "cell_type": "code",
   "execution_count": 258,
   "id": "a4199d64",
   "metadata": {},
   "outputs": [
    {
     "data": {
      "text/plain": [
       "[1, 2, 3, 2, 3, 4]"
      ]
     },
     "execution_count": 258,
     "metadata": {},
     "output_type": "execute_result"
    }
   ],
   "source": [
    "a=[1,2,3]\n",
    "b=[2,3,4]\n",
    "c=a+b\n",
    "c"
   ]
  },
  {
   "cell_type": "markdown",
   "id": "12eb1a8d",
   "metadata": {},
   "source": [
    "## Dictionaries\n",
    "- 딕셔너리로 키-값 조합 형태의 리스트를 만들 수 있다. (key-value pairs)\n",
    "- 딕셔너리에서는 항목을 찾을 때 키를 사용한다\n",
    "- 딕셔너너리에서 저장된 순서는 중요시하지 않는다.\n",
    "- 딕셔너리는 중괄호 {  } 로 만든다.\n",
    "- D.clear(): Removes all items from D\n",
    "- D.copy(): Makes a copy of D\n",
    "- D.fromkeys(s [,values]): Creates a new dictionary with keys from\n",
    "sequence s and values all set to value\n",
    "- D.has_key(k): Checks for key k\n",
    "- (Also, k in D.keys())\n",
    "- D.pop(k): Similar to pop for lists\n",
    "- D.popitem(): Pops an item at random\n",
    "- D.update(E): Adds all pairs from dictionary E to Dv"
   ]
  },
  {
   "cell_type": "code",
   "execution_count": 259,
   "id": "93ac7687",
   "metadata": {},
   "outputs": [],
   "source": [
    "my_dict = {'grade': 3,'age': 21,'name': \"kim\"  }"
   ]
  },
  {
   "cell_type": "code",
   "execution_count": 260,
   "id": "655092ac",
   "metadata": {},
   "outputs": [
    {
     "data": {
      "text/plain": [
       "(dict, 3, {'grade': 3, 'age': 21, 'name': 'kim'})"
      ]
     },
     "execution_count": 260,
     "metadata": {},
     "output_type": "execute_result"
    }
   ],
   "source": [
    "type(my_dict), len(my_dict), my_dict"
   ]
  },
  {
   "cell_type": "code",
   "execution_count": 261,
   "id": "a8179125",
   "metadata": {},
   "outputs": [
    {
     "data": {
      "text/plain": [
       "21"
      ]
     },
     "execution_count": 261,
     "metadata": {},
     "output_type": "execute_result"
    }
   ],
   "source": [
    "my_dict['age']"
   ]
  },
  {
   "cell_type": "code",
   "execution_count": 262,
   "id": "04b34924",
   "metadata": {},
   "outputs": [
    {
     "name": "stdout",
     "output_type": "stream",
     "text": [
      "dict_keys(['grade', 'age', 'name'])\n",
      "dict_values([3, 21, 'kim'])\n",
      "dict_items([('grade', 3), ('age', 21), ('name', 'kim')])\n"
     ]
    }
   ],
   "source": [
    "print(my_dict.keys())\n",
    "print(my_dict.values())\n",
    "print(my_dict.items()) "
   ]
  },
  {
   "cell_type": "code",
   "execution_count": 263,
   "id": "e4ea4a4c",
   "metadata": {},
   "outputs": [
    {
     "data": {
      "text/plain": [
       "{'grade': 3, 'age': 21, 'name': 'lee'}"
      ]
     },
     "execution_count": 263,
     "metadata": {},
     "output_type": "execute_result"
    }
   ],
   "source": [
    "my_dict['name'] = 'lee'   # mutable\n",
    "my_dict"
   ]
  },
  {
   "cell_type": "code",
   "execution_count": 264,
   "id": "ec7ab7db",
   "metadata": {},
   "outputs": [
    {
     "name": "stdout",
     "output_type": "stream",
     "text": [
      "21\n",
      "lee\n"
     ]
    }
   ],
   "source": [
    "for k, v in my_dict.items():\n",
    "    if k=='name' or k=='age':\n",
    "        print (v)"
   ]
  },
  {
   "cell_type": "markdown",
   "id": "547118e7",
   "metadata": {},
   "source": [
    "# Comprehension Examples\n",
    "#### A = range(6), B = [‘a’, ‘b’ ‘c’] = ‘abc’, C = [(3,4),(7,24)]\n",
    "- [x for x in A] ---> [0,1,2,3,4,5]\n",
    "- [3*x for x in A] --->[0,3,6,9,12,15]\n",
    "- [x for x in A if x < 2] ---> [0,1]\n",
    "- [(x, x**2) for x in A if x % 2 == 0] --->[(0,0),(2,4),(4,16)]\n",
    "- [(x,y) for x in A for y in B if x == 3] --->[(3,‘a’), (3, ‘b’), (3,‘c’)]\n",
    "- [np.sqrt(x*x+y*y) for x,y in C] --->[5,25]\n",
    "- {val:i for i, val in enumerate(B)} --->{‘a’:0, ‘b’:1, ‘c’:2}\n",
    "\n",
    "#### can also use ternary expressions to incorporate ‘else’ condition\n",
    "- [x if x < 2 else -1 for x in A] --->[0,1,-1,-1,-1,-1]"
   ]
  },
  {
   "cell_type": "code",
   "execution_count": 265,
   "id": "6bedbe37",
   "metadata": {},
   "outputs": [
    {
     "data": {
      "text/plain": [
       "[0, 1, 2, 3, 4]"
      ]
     },
     "execution_count": 265,
     "metadata": {},
     "output_type": "execute_result"
    }
   ],
   "source": [
    "list(range(5))"
   ]
  },
  {
   "cell_type": "code",
   "execution_count": 266,
   "id": "b30e5175",
   "metadata": {},
   "outputs": [
    {
     "data": {
      "text/plain": [
       "[0, 1, 4, 9, 16]"
      ]
     },
     "execution_count": 266,
     "metadata": {},
     "output_type": "execute_result"
    }
   ],
   "source": [
    "t = []\n",
    "for i in range(5):\n",
    "    t.append(i**2)\n",
    "t"
   ]
  },
  {
   "cell_type": "code",
   "execution_count": 267,
   "id": "71f09633",
   "metadata": {},
   "outputs": [
    {
     "data": {
      "text/plain": [
       "[0, 1, 4, 9, 16]"
      ]
     },
     "execution_count": 267,
     "metadata": {},
     "output_type": "execute_result"
    }
   ],
   "source": [
    "[i**2 for i in range(5)]"
   ]
  },
  {
   "cell_type": "code",
   "execution_count": 268,
   "id": "c2f92a4b",
   "metadata": {},
   "outputs": [],
   "source": [
    "A = range(6); B = ['a','b','c']; C = [(3,4),(7,24)]"
   ]
  },
  {
   "cell_type": "code",
   "execution_count": 269,
   "id": "92016d7c",
   "metadata": {},
   "outputs": [
    {
     "data": {
      "text/plain": [
       "[0, 1, 2, 3, 4, 5]"
      ]
     },
     "execution_count": 269,
     "metadata": {},
     "output_type": "execute_result"
    }
   ],
   "source": [
    "list(A)"
   ]
  },
  {
   "cell_type": "code",
   "execution_count": 270,
   "id": "926135d3",
   "metadata": {},
   "outputs": [
    {
     "data": {
      "text/plain": [
       "[0, 3, 6, 9, 12, 15]"
      ]
     },
     "execution_count": 270,
     "metadata": {},
     "output_type": "execute_result"
    }
   ],
   "source": [
    "[3*x for x in A]"
   ]
  },
  {
   "cell_type": "code",
   "execution_count": 271,
   "id": "09484d2f",
   "metadata": {},
   "outputs": [
    {
     "data": {
      "text/plain": [
       "[0, 1]"
      ]
     },
     "execution_count": 271,
     "metadata": {},
     "output_type": "execute_result"
    }
   ],
   "source": [
    "[x for x in A if x < 2]"
   ]
  },
  {
   "cell_type": "code",
   "execution_count": 272,
   "id": "909907ba",
   "metadata": {},
   "outputs": [
    {
     "data": {
      "text/plain": [
       "[(0, 0), (2, 4), (4, 16)]"
      ]
     },
     "execution_count": 272,
     "metadata": {},
     "output_type": "execute_result"
    }
   ],
   "source": [
    "[(x, x**2) for x in A if x % 2 == 0]"
   ]
  },
  {
   "cell_type": "code",
   "execution_count": 273,
   "id": "55e4b724",
   "metadata": {},
   "outputs": [
    {
     "data": {
      "text/plain": [
       "[(3, 'a'), (3, 'b'), (3, 'c')]"
      ]
     },
     "execution_count": 273,
     "metadata": {},
     "output_type": "execute_result"
    }
   ],
   "source": [
    "[(x,y) for x in A for y in B if x == 3]"
   ]
  },
  {
   "cell_type": "code",
   "execution_count": 274,
   "id": "62fe1013",
   "metadata": {},
   "outputs": [
    {
     "data": {
      "text/plain": [
       "[5.0, 25.0]"
      ]
     },
     "execution_count": 274,
     "metadata": {},
     "output_type": "execute_result"
    }
   ],
   "source": [
    "import numpy as np\n",
    "[np.sqrt(x*x+y*y) for x,y in C]     # 실수로 나온다."
   ]
  },
  {
   "cell_type": "code",
   "execution_count": 275,
   "id": "3d73a051",
   "metadata": {},
   "outputs": [
    {
     "data": {
      "text/plain": [
       "{'a': 0, 'b': 1, 'c': 2}"
      ]
     },
     "execution_count": 275,
     "metadata": {},
     "output_type": "execute_result"
    }
   ],
   "source": [
    "{val:i for i, val in enumerate(B)}"
   ]
  },
  {
   "cell_type": "code",
   "execution_count": 276,
   "id": "cb728f99",
   "metadata": {},
   "outputs": [
    {
     "data": {
      "text/plain": [
       "[0, 1, -1, -1, -1, -1]"
      ]
     },
     "execution_count": 276,
     "metadata": {},
     "output_type": "execute_result"
    }
   ],
   "source": [
    "[x if x < 2 else -1 for x in A]"
   ]
  },
  {
   "cell_type": "markdown",
   "id": "4effad87",
   "metadata": {},
   "source": [
    "Exercise: 다음과 같은 도시, 인구수가 튜플의 리스트로 주어졌을때, 키가 도시, 값이 인구수인 딕셔너리를 만들어 보자.\n",
    " \n",
    "\n",
    "population = [('서울', 1000), ('경기', 1400),('부산', 350), ('인천', 300), ('대구', 240), ('대전', 148), (‘Kar'광주', 145 ), ('울산', 115), ('세종', 35) ]"
   ]
  },
  {
   "cell_type": "code",
   "execution_count": 277,
   "id": "32e7ae81",
   "metadata": {},
   "outputs": [
    {
     "name": "stdout",
     "output_type": "stream",
     "text": [
      "{'서울': 1000, '경기': 1400, '부산': 350, '인천': 300, '대구': 240, '대전': 148, '광주': 145, '울산': 115, '세종': 35}\n"
     ]
    }
   ],
   "source": [
    "# solution1\n",
    "\n",
    "population = [('서울', 1000), ('경기', 1400),('부산', 350), ('인천', 300), \n",
    "              ('대구', 240), ('대전', 148), ('광주', 145 ), ('울산', 115), \n",
    "              ('세종', 35) ]\n",
    "\n",
    "cities, popul = [], []\n",
    "dict_list = {}\n",
    "\n",
    "cities = [ population[x][0] for x in range(len(population))]\n",
    "popul = [ population[x][1] for x in range(len(population)) ]\n",
    "\n",
    "dict_list = {key:value for key, value in zip(cities, popul)}\n",
    "\n",
    "print(dict_list)"
   ]
  },
  {
   "cell_type": "code",
   "execution_count": 278,
   "id": "fe25545a",
   "metadata": {},
   "outputs": [
    {
     "data": {
      "text/plain": [
       "{'서울': 1000,\n",
       " '경기': 1400,\n",
       " '부산': 350,\n",
       " '인천': 300,\n",
       " '대구': 240,\n",
       " '대전': 148,\n",
       " '광주': 145,\n",
       " '울산': 115,\n",
       " '세종': 35}"
      ]
     },
     "execution_count": 278,
     "metadata": {},
     "output_type": "execute_result"
    }
   ],
   "source": [
    "# solution2\n",
    "popul_dict = {key:value for (key, value) in population}\n",
    "popul_dict"
   ]
  },
  {
   "cell_type": "markdown",
   "id": "eb561d0b",
   "metadata": {},
   "source": [
    "# Some important Python features"
   ]
  },
  {
   "cell_type": "markdown",
   "id": "16f9e6d0",
   "metadata": {},
   "source": [
    "## Control flows\n",
    "- if/elif/else\n",
    "- for/range\n",
    "- while/break/continue\n",
    "- break,continue"
   ]
  },
  {
   "cell_type": "code",
   "execution_count": 279,
   "id": "436a7b04",
   "metadata": {},
   "outputs": [
    {
     "name": "stdout",
     "output_type": "stream",
     "text": [
      "10\n",
      "60\n",
      "110\n",
      "160\n"
     ]
    }
   ],
   "source": [
    "x = range(1,20,5)   # start, end, stride\n",
    "for i in x:\n",
    "    print(i*10)"
   ]
  },
  {
   "cell_type": "code",
   "execution_count": 280,
   "id": "761d056a",
   "metadata": {},
   "outputs": [
    {
     "name": "stdout",
     "output_type": "stream",
     "text": [
      "[0, 10, 20, 30, 40]\n"
     ]
    }
   ],
   "source": [
    "list_2 = [x*10 for x in range(5)] \n",
    "print(list_2)              # [0, 10, 20, 30, 40]"
   ]
  },
  {
   "cell_type": "markdown",
   "id": "0cbf0e96",
   "metadata": {},
   "source": [
    "#### 프린프할 문자열의 서식을 지정하는 방법으로는 (1) % 서식을 사용 (2) format() 함수를 사용하는 방법이 있다.\n",
    "#### %s(string), %c(character), %d(integer), %f(floating), %o(octal), %x(hexa), %%(문자 %자체)"
   ]
  },
  {
   "cell_type": "code",
   "execution_count": 281,
   "id": "c94d1c4c",
   "metadata": {},
   "outputs": [
    {
     "name": "stdout",
     "output_type": "stream",
     "text": [
      "Python is cool\n",
      "Python is cool\n",
      "Python is cool\n",
      "Python is powerful\n",
      "Python is powerful\n",
      "Python is powerful\n",
      "Python is readable\n",
      "Python is readable\n",
      "Python is readable\n"
     ]
    }
   ],
   "source": [
    "for word in ('cool', 'powerful', 'readable'):\n",
    "    print('Python is %s' %word)\n",
    "    print('Python is {}'.format(word))  # preferred\n",
    "    print('Python is', word)"
   ]
  },
  {
   "cell_type": "code",
   "execution_count": 282,
   "id": "70be201c",
   "metadata": {},
   "outputs": [
    {
     "name": "stdout",
     "output_type": "stream",
     "text": [
      "3 < x <= 10\n"
     ]
    }
   ],
   "source": [
    "x=7\n",
    "if x > 10:\n",
    "    print(\"x > 10\") \n",
    "elif x > 3:\n",
    "    print(\"3 < x <= 10\") \n",
    "else:\n",
    "    print(\" x <= 3\")\n",
    " "
   ]
  },
  {
   "cell_type": "code",
   "execution_count": 283,
   "id": "1b054f05",
   "metadata": {},
   "outputs": [
    {
     "name": "stdout",
     "output_type": "stream",
     "text": [
      "10\n",
      "101\n"
     ]
    }
   ],
   "source": [
    "z = -3\n",
    "while abs(z) < 20:     # 절댓값을 구하는 내장함수\n",
    "    z = z**2 + 1\n",
    "    print(z)"
   ]
  },
  {
   "cell_type": "code",
   "execution_count": 284,
   "id": "7e7ff0c1",
   "metadata": {},
   "outputs": [
    {
     "name": "stdout",
     "output_type": "stream",
     "text": [
      "1.0\n",
      "0.5\n",
      "0.25\n"
     ]
    }
   ],
   "source": [
    "# continue - the next iteration of a loop.\n",
    "a = [1, 2, 0, 4]\n",
    "for element in a:\n",
    "    if element == 0:\n",
    "        continue\n",
    "    print(1. / element)"
   ]
  },
  {
   "cell_type": "code",
   "execution_count": 285,
   "id": "f73c6601",
   "metadata": {},
   "outputs": [
    {
     "name": "stdout",
     "output_type": "stream",
     "text": [
      "1.0\n",
      "0.5\n"
     ]
    }
   ],
   "source": [
    "# break - out of enclosing for/while loop:\n",
    "for element in a:\n",
    "    if element == 0:\n",
    "        break\n",
    "    print(1. / element)"
   ]
  },
  {
   "cell_type": "code",
   "execution_count": 286,
   "id": "d5beac61",
   "metadata": {},
   "outputs": [
    {
     "name": "stdout",
     "output_type": "stream",
     "text": [
      "[1, 25, 10000]\n"
     ]
    }
   ],
   "source": [
    "items = [ 1, 5, 100]\n",
    "new_items = []\n",
    "for x in items:\n",
    "    new_items.append(x**2)\n",
    "print(new_items)"
   ]
  },
  {
   "cell_type": "code",
   "execution_count": 287,
   "id": "9a20af1a",
   "metadata": {},
   "outputs": [
    {
     "name": "stdout",
     "output_type": "stream",
     "text": [
      "[1, 25, 10000]\n"
     ]
    },
    {
     "data": {
      "text/plain": [
       "[1, 25, 10000]"
      ]
     },
     "execution_count": 287,
     "metadata": {},
     "output_type": "execute_result"
    }
   ],
   "source": [
    "# we can also make it in many different ways\n",
    "import numpy as np\n",
    "print([x**2 for x in items])\n",
    "list(np.array(items)**2)"
   ]
  },
  {
   "cell_type": "markdown",
   "id": "9458339b",
   "metadata": {},
   "source": [
    "## enumeration"
   ]
  },
  {
   "cell_type": "code",
   "execution_count": 288,
   "id": "424fe372",
   "metadata": {},
   "outputs": [
    {
     "name": "stdout",
     "output_type": "stream",
     "text": [
      "0 cool\n",
      "1 powerful\n",
      "2 readable\n",
      "1 cool\n",
      "2 powerful\n",
      "3 readable\n"
     ]
    }
   ],
   "source": [
    "words = ['cool', 'powerful','readable']\n",
    "for i in range (0, len(words)):\n",
    "    print(i, words[i])\n",
    "    \n",
    "for i, word in enumerate(words, start=1):      # 인덱스를 알려줄 수 있다.\n",
    "    print(i, word)"
   ]
  },
  {
   "cell_type": "markdown",
   "id": "32f9e7ca",
   "metadata": {},
   "source": [
    "## sort 함수"
   ]
  },
  {
   "cell_type": "code",
   "execution_count": 289,
   "id": "4a697464",
   "metadata": {},
   "outputs": [
    {
     "name": "stdout",
     "output_type": "stream",
     "text": [
      "[5, 3, 2, 1] [3, 1, 5, 2]\n",
      "None [5, 3, 2, 1]\n"
     ]
    }
   ],
   "source": [
    "a, b = [3,1,5,2], [3,1,5,2]\n",
    "print(sorted(a, reverse=True), a)\n",
    "print(b.sort(reverse=True), b)"
   ]
  },
  {
   "cell_type": "code",
   "execution_count": 290,
   "id": "9813b9a2",
   "metadata": {},
   "outputs": [
    {
     "data": {
      "text/plain": [
       "array([3, 1, 5, 2])"
      ]
     },
     "execution_count": 290,
     "metadata": {},
     "output_type": "execute_result"
    }
   ],
   "source": [
    "import numpy as np\n",
    "aa = np.array(a)\n",
    "aa"
   ]
  },
  {
   "cell_type": "code",
   "execution_count": 291,
   "id": "6acace66",
   "metadata": {},
   "outputs": [],
   "source": [
    "aa.sort()"
   ]
  },
  {
   "cell_type": "code",
   "execution_count": 292,
   "id": "6ea8be03",
   "metadata": {},
   "outputs": [
    {
     "data": {
      "text/plain": [
       "array([1, 2, 3, 5])"
      ]
     },
     "execution_count": 292,
     "metadata": {},
     "output_type": "execute_result"
    }
   ],
   "source": [
    "aa"
   ]
  },
  {
   "cell_type": "code",
   "execution_count": 293,
   "id": "c99dbfe7",
   "metadata": {},
   "outputs": [
    {
     "data": {
      "text/plain": [
       "array([5, 3, 2, 1])"
      ]
     },
     "execution_count": 293,
     "metadata": {},
     "output_type": "execute_result"
    }
   ],
   "source": [
    "aa[::-1]      # 전체를 꺼꾸로"
   ]
  },
  {
   "cell_type": "code",
   "execution_count": 294,
   "id": "1e4c2e00",
   "metadata": {},
   "outputs": [
    {
     "data": {
      "text/plain": [
       "array([1, 2, 3, 5])"
      ]
     },
     "execution_count": 294,
     "metadata": {},
     "output_type": "execute_result"
    }
   ],
   "source": [
    "aa"
   ]
  },
  {
   "cell_type": "code",
   "execution_count": 295,
   "id": "a641f2b4",
   "metadata": {},
   "outputs": [
    {
     "data": {
      "text/plain": [
       "(array([1, 2, 3, 5]), array([5, 3, 2, 1]))"
      ]
     },
     "execution_count": 295,
     "metadata": {},
     "output_type": "execute_result"
    }
   ],
   "source": [
    "aa, aa[::-1]   #  numpy  배열은 reverse가 없다."
   ]
  },
  {
   "cell_type": "code",
   "execution_count": 296,
   "id": "4faeb628",
   "metadata": {},
   "outputs": [
    {
     "name": "stdout",
     "output_type": "stream",
     "text": [
      "<class 'list'> <class 'numpy.ndarray'>\n"
     ]
    }
   ],
   "source": [
    "print(type(a), type(aa))"
   ]
  },
  {
   "cell_type": "code",
   "execution_count": 297,
   "id": "8c7d5972",
   "metadata": {},
   "outputs": [
    {
     "data": {
      "text/html": [
       "<div>\n",
       "<style scoped>\n",
       "    .dataframe tbody tr th:only-of-type {\n",
       "        vertical-align: middle;\n",
       "    }\n",
       "\n",
       "    .dataframe tbody tr th {\n",
       "        vertical-align: top;\n",
       "    }\n",
       "\n",
       "    .dataframe thead th {\n",
       "        text-align: right;\n",
       "    }\n",
       "</style>\n",
       "<table border=\"1\" class=\"dataframe\">\n",
       "  <thead>\n",
       "    <tr style=\"text-align: right;\">\n",
       "      <th></th>\n",
       "      <th>순서</th>\n",
       "      <th>이름</th>\n",
       "      <th>나이</th>\n",
       "    </tr>\n",
       "  </thead>\n",
       "  <tbody>\n",
       "    <tr>\n",
       "      <th>a</th>\n",
       "      <td>2</td>\n",
       "      <td>park</td>\n",
       "      <td>30</td>\n",
       "    </tr>\n",
       "    <tr>\n",
       "      <th>b</th>\n",
       "      <td>1</td>\n",
       "      <td>lee</td>\n",
       "      <td>20</td>\n",
       "    </tr>\n",
       "    <tr>\n",
       "      <th>c</th>\n",
       "      <td>3</td>\n",
       "      <td>choi</td>\n",
       "      <td>40</td>\n",
       "    </tr>\n",
       "  </tbody>\n",
       "</table>\n",
       "</div>"
      ],
      "text/plain": [
       "   순서    이름  나이\n",
       "a   2  park  30\n",
       "b   1   lee  20\n",
       "c   3  choi  40"
      ]
     },
     "execution_count": 297,
     "metadata": {},
     "output_type": "execute_result"
    }
   ],
   "source": [
    "import pandas as pd\n",
    "df = pd.DataFrame({'순서': [2,1,3], \n",
    "                   '이름': ['park', 'lee', 'choi'],\n",
    "                   '나이': [30, 20, 40]}, index=['a','b','c'])\n",
    "df"
   ]
  },
  {
   "cell_type": "code",
   "execution_count": 298,
   "id": "731c6722",
   "metadata": {},
   "outputs": [
    {
     "data": {
      "text/html": [
       "<div>\n",
       "<style scoped>\n",
       "    .dataframe tbody tr th:only-of-type {\n",
       "        vertical-align: middle;\n",
       "    }\n",
       "\n",
       "    .dataframe tbody tr th {\n",
       "        vertical-align: top;\n",
       "    }\n",
       "\n",
       "    .dataframe thead th {\n",
       "        text-align: right;\n",
       "    }\n",
       "</style>\n",
       "<table border=\"1\" class=\"dataframe\">\n",
       "  <thead>\n",
       "    <tr style=\"text-align: right;\">\n",
       "      <th></th>\n",
       "      <th>순서</th>\n",
       "      <th>이름</th>\n",
       "      <th>나이</th>\n",
       "    </tr>\n",
       "  </thead>\n",
       "  <tbody>\n",
       "    <tr>\n",
       "      <th>c</th>\n",
       "      <td>3</td>\n",
       "      <td>choi</td>\n",
       "      <td>40</td>\n",
       "    </tr>\n",
       "    <tr>\n",
       "      <th>a</th>\n",
       "      <td>2</td>\n",
       "      <td>park</td>\n",
       "      <td>30</td>\n",
       "    </tr>\n",
       "    <tr>\n",
       "      <th>b</th>\n",
       "      <td>1</td>\n",
       "      <td>lee</td>\n",
       "      <td>20</td>\n",
       "    </tr>\n",
       "  </tbody>\n",
       "</table>\n",
       "</div>"
      ],
      "text/plain": [
       "   순서    이름  나이\n",
       "c   3  choi  40\n",
       "a   2  park  30\n",
       "b   1   lee  20"
      ]
     },
     "execution_count": 298,
     "metadata": {},
     "output_type": "execute_result"
    }
   ],
   "source": [
    "df.sort_values(by=['나이'], ascending=False) # 나이기준으로 내림차순"
   ]
  },
  {
   "cell_type": "code",
   "execution_count": 299,
   "id": "9f9310e6",
   "metadata": {},
   "outputs": [
    {
     "data": {
      "text/html": [
       "<div>\n",
       "<style scoped>\n",
       "    .dataframe tbody tr th:only-of-type {\n",
       "        vertical-align: middle;\n",
       "    }\n",
       "\n",
       "    .dataframe tbody tr th {\n",
       "        vertical-align: top;\n",
       "    }\n",
       "\n",
       "    .dataframe thead th {\n",
       "        text-align: right;\n",
       "    }\n",
       "</style>\n",
       "<table border=\"1\" class=\"dataframe\">\n",
       "  <thead>\n",
       "    <tr style=\"text-align: right;\">\n",
       "      <th></th>\n",
       "      <th>순서</th>\n",
       "      <th>이름</th>\n",
       "      <th>나이</th>\n",
       "    </tr>\n",
       "  </thead>\n",
       "  <tbody>\n",
       "    <tr>\n",
       "      <th>c</th>\n",
       "      <td>3</td>\n",
       "      <td>choi</td>\n",
       "      <td>40</td>\n",
       "    </tr>\n",
       "    <tr>\n",
       "      <th>b</th>\n",
       "      <td>1</td>\n",
       "      <td>lee</td>\n",
       "      <td>20</td>\n",
       "    </tr>\n",
       "    <tr>\n",
       "      <th>a</th>\n",
       "      <td>2</td>\n",
       "      <td>park</td>\n",
       "      <td>30</td>\n",
       "    </tr>\n",
       "  </tbody>\n",
       "</table>\n",
       "</div>"
      ],
      "text/plain": [
       "   순서    이름  나이\n",
       "c   3  choi  40\n",
       "b   1   lee  20\n",
       "a   2  park  30"
      ]
     },
     "execution_count": 299,
     "metadata": {},
     "output_type": "execute_result"
    }
   ],
   "source": [
    "df.sort_index(ascending=False)"
   ]
  },
  {
   "cell_type": "code",
   "execution_count": 300,
   "id": "ab58c351",
   "metadata": {},
   "outputs": [
    {
     "data": {
      "text/html": [
       "<div>\n",
       "<style scoped>\n",
       "    .dataframe tbody tr th:only-of-type {\n",
       "        vertical-align: middle;\n",
       "    }\n",
       "\n",
       "    .dataframe tbody tr th {\n",
       "        vertical-align: top;\n",
       "    }\n",
       "\n",
       "    .dataframe thead th {\n",
       "        text-align: right;\n",
       "    }\n",
       "</style>\n",
       "<table border=\"1\" class=\"dataframe\">\n",
       "  <thead>\n",
       "    <tr style=\"text-align: right;\">\n",
       "      <th></th>\n",
       "      <th>순서</th>\n",
       "      <th>이름</th>\n",
       "      <th>나이</th>\n",
       "    </tr>\n",
       "  </thead>\n",
       "  <tbody>\n",
       "    <tr>\n",
       "      <th>a</th>\n",
       "      <td>2</td>\n",
       "      <td>park</td>\n",
       "      <td>30</td>\n",
       "    </tr>\n",
       "    <tr>\n",
       "      <th>b</th>\n",
       "      <td>1</td>\n",
       "      <td>lee</td>\n",
       "      <td>20</td>\n",
       "    </tr>\n",
       "    <tr>\n",
       "      <th>c</th>\n",
       "      <td>3</td>\n",
       "      <td>choi</td>\n",
       "      <td>40</td>\n",
       "    </tr>\n",
       "  </tbody>\n",
       "</table>\n",
       "</div>"
      ],
      "text/plain": [
       "   순서    이름  나이\n",
       "a   2  park  30\n",
       "b   1   lee  20\n",
       "c   3  choi  40"
      ]
     },
     "execution_count": 300,
     "metadata": {},
     "output_type": "execute_result"
    }
   ],
   "source": [
    "df.sort_index(ascending=True)"
   ]
  },
  {
   "cell_type": "code",
   "execution_count": 301,
   "id": "501ecd45",
   "metadata": {},
   "outputs": [
    {
     "data": {
      "text/html": [
       "<div>\n",
       "<style scoped>\n",
       "    .dataframe tbody tr th:only-of-type {\n",
       "        vertical-align: middle;\n",
       "    }\n",
       "\n",
       "    .dataframe tbody tr th {\n",
       "        vertical-align: top;\n",
       "    }\n",
       "\n",
       "    .dataframe thead th {\n",
       "        text-align: right;\n",
       "    }\n",
       "</style>\n",
       "<table border=\"1\" class=\"dataframe\">\n",
       "  <thead>\n",
       "    <tr style=\"text-align: right;\">\n",
       "      <th></th>\n",
       "      <th>이름</th>\n",
       "      <th>순서</th>\n",
       "      <th>나이</th>\n",
       "    </tr>\n",
       "  </thead>\n",
       "  <tbody>\n",
       "    <tr>\n",
       "      <th>a</th>\n",
       "      <td>park</td>\n",
       "      <td>2</td>\n",
       "      <td>30</td>\n",
       "    </tr>\n",
       "    <tr>\n",
       "      <th>b</th>\n",
       "      <td>lee</td>\n",
       "      <td>1</td>\n",
       "      <td>20</td>\n",
       "    </tr>\n",
       "    <tr>\n",
       "      <th>c</th>\n",
       "      <td>choi</td>\n",
       "      <td>3</td>\n",
       "      <td>40</td>\n",
       "    </tr>\n",
       "  </tbody>\n",
       "</table>\n",
       "</div>"
      ],
      "text/plain": [
       "     이름  순서  나이\n",
       "a  park   2  30\n",
       "b   lee   1  20\n",
       "c  choi   3  40"
      ]
     },
     "execution_count": 301,
     "metadata": {},
     "output_type": "execute_result"
    }
   ],
   "source": [
    "df.sort_index(axis=1, ascending=False)  # axis=1은 컬럼  axis는 인덱스"
   ]
  },
  {
   "cell_type": "code",
   "execution_count": 302,
   "id": "7019afa4",
   "metadata": {},
   "outputs": [
    {
     "data": {
      "text/html": [
       "<div>\n",
       "<style scoped>\n",
       "    .dataframe tbody tr th:only-of-type {\n",
       "        vertical-align: middle;\n",
       "    }\n",
       "\n",
       "    .dataframe tbody tr th {\n",
       "        vertical-align: top;\n",
       "    }\n",
       "\n",
       "    .dataframe thead th {\n",
       "        text-align: right;\n",
       "    }\n",
       "</style>\n",
       "<table border=\"1\" class=\"dataframe\">\n",
       "  <thead>\n",
       "    <tr style=\"text-align: right;\">\n",
       "      <th></th>\n",
       "      <th>나이</th>\n",
       "      <th>순서</th>\n",
       "      <th>이름</th>\n",
       "    </tr>\n",
       "  </thead>\n",
       "  <tbody>\n",
       "    <tr>\n",
       "      <th>a</th>\n",
       "      <td>30</td>\n",
       "      <td>2</td>\n",
       "      <td>park</td>\n",
       "    </tr>\n",
       "    <tr>\n",
       "      <th>b</th>\n",
       "      <td>20</td>\n",
       "      <td>1</td>\n",
       "      <td>lee</td>\n",
       "    </tr>\n",
       "    <tr>\n",
       "      <th>c</th>\n",
       "      <td>40</td>\n",
       "      <td>3</td>\n",
       "      <td>choi</td>\n",
       "    </tr>\n",
       "  </tbody>\n",
       "</table>\n",
       "</div>"
      ],
      "text/plain": [
       "   나이  순서    이름\n",
       "a  30   2  park\n",
       "b  20   1   lee\n",
       "c  40   3  choi"
      ]
     },
     "execution_count": 302,
     "metadata": {},
     "output_type": "execute_result"
    }
   ],
   "source": [
    "df.sort_index(axis=1, ascending=True)  # axis=1은 컬럼  axis는 인덱스"
   ]
  },
  {
   "cell_type": "markdown",
   "id": "c1cf1a55",
   "metadata": {},
   "source": [
    "## Graph 그리기\n",
    "- use matplotlib\n",
    "- 한글을 보이기 위해서는 아래와 같이 환경 설정 필요"
   ]
  },
  {
   "cell_type": "code",
   "execution_count": 303,
   "id": "400c2ab9",
   "metadata": {},
   "outputs": [],
   "source": [
    "import platform\n",
    "from matplotlib import font_manager, rc \n",
    "import matplotlib # '-' 부호가 제대로 표시되게 하는 설정 \n",
    "matplotlib.rcParams['axes.unicode_minus'] = False\n",
    "# 운영 체제마다 한글이 보이게 하는 설정 # 윈도우\n",
    "if platform.system() == 'Windows':\n",
    "    path = \"c:\\Windows\\Fonts\\malgun.ttf\"\n",
    "    font_name = font_manager.FontProperties(fname=path).get_name() \n",
    "    rc('font', family=font_name)\n",
    "#맥\n",
    "elif platform.system() == 'Darwin': \n",
    "    rc('font', family='AppleGothic')\n",
    "# 리눅스\n",
    "elif platform.system() == 'Linux':\n",
    "    rc('font', family='NanumBarunGothic')"
   ]
  },
  {
   "cell_type": "code",
   "execution_count": 304,
   "id": "d700b0ec",
   "metadata": {},
   "outputs": [
    {
     "data": {
      "text/plain": [
       "Text(0, 0.5, 'y-axis')"
      ]
     },
     "execution_count": 304,
     "metadata": {},
     "output_type": "execute_result"
    },
    {
     "data": {
      "image/png": "[encoded data removed]",
      "text/plain": [
       "<Figure size 432x288 with 1 Axes>"
      ]
     },
     "metadata": {
      "image/png": {
       "height": 263,
       "width": 380
      },
      "needs_background": "light"
     },
     "output_type": "display_data"
    }
   ],
   "source": [
    "import matplotlib.pyplot as plt\n",
    "import numpy as np\n",
    "%matplotlib inline\n",
    "x = range(100)\n",
    "y1 = np.random.rand(100)\n",
    "y2 = np.random.randn(100)\n",
    "plt.scatter(x,y1)\n",
    "plt.scatter(x,y2, c='r', s=5)\n",
    "plt.xlabel('x-축')\n",
    "plt.ylabel('y-axis')"
   ]
  },
  {
   "cell_type": "code",
   "execution_count": 305,
   "id": "2f018986",
   "metadata": {},
   "outputs": [
    {
     "data": {
      "text/plain": [
       "array([0.36120371, 0.05449628, 0.66544109, 0.6718697 , 0.2399019 ,\n",
       "       0.14208685, 0.06051951, 0.67147224, 0.23106379, 0.34157312,\n",
       "       0.62640927, 0.77181698, 0.59830911, 0.79063768, 0.8820798 ,\n",
       "       0.13900416, 0.61312601, 0.51170717, 0.74390879, 0.52316553,\n",
       "       0.92122488, 0.43211041, 0.26100149, 0.82852407, 0.18393039,\n",
       "       0.26496456, 0.40142008, 0.72715821, 0.71400501, 0.81826884,\n",
       "       0.11823579, 0.27076854, 0.14149406, 0.40270966, 0.83324005,\n",
       "       0.50609514, 0.91957553, 0.12274811, 0.19294961, 0.24429275,\n",
       "       0.1623393 , 0.01341269, 0.41683043, 0.63484959, 0.82999891,\n",
       "       0.72282103, 0.80757066, 0.34630663, 0.96805063, 0.72817779,\n",
       "       0.52130486, 0.62073587, 0.74052182, 0.81833065, 0.69084702,\n",
       "       0.68153238, 0.42184089, 0.38372814, 0.39779518, 0.49441742,\n",
       "       0.62053304, 0.67352452, 0.68266519, 0.81351086, 0.20416516,\n",
       "       0.32080918, 0.91448718, 0.3463747 , 0.1830561 , 0.27270844,\n",
       "       0.13003458, 0.79016116, 0.03513552, 0.35125728, 0.67085625,\n",
       "       0.30986411, 0.09826721, 0.67125393, 0.52299669, 0.41751543,\n",
       "       0.93624541, 0.71292219, 0.09026633, 0.74294109, 0.68393981,\n",
       "       0.46659494, 0.62856904, 0.64022434, 0.89759504, 0.04951304,\n",
       "       0.7289636 , 0.88372849, 0.21529792, 0.46427229, 0.94937494,\n",
       "       0.52201165, 0.88432585, 0.66819133, 0.19313691, 0.38956726])"
      ]
     },
     "execution_count": 305,
     "metadata": {},
     "output_type": "execute_result"
    }
   ],
   "source": [
    "np.random.rand(100)"
   ]
  },
  {
   "cell_type": "code",
   "execution_count": 307,
   "id": "3e6456b4",
   "metadata": {},
   "outputs": [],
   "source": [
    "import matplotlib as mpl\n",
    "import matplotlib.pyplot as plt\n",
    "c\n",
    "%config InlineBackend.figure_format = 'retina'\n",
    " \n",
    "\n",
    " \n",
    "import matplotlib.font_manager as fm\n",
    "fontpath = '/usr/share/fonts/truetype/nanum/NanumBarunGothic.ttf'\n",
    "font = fm.FontProperties(fname=fontpath, size=9)\n",
    "plt.rc('font', family='NanumBarunGothic') \n",
    "\n",
    "# 이 후에 꼭 다시 runtime 다시 시작해 주어야 함."
   ]
  },
  {
   "cell_type": "code",
   "execution_count": 308,
   "id": "50ffa57c",
   "metadata": {},
   "outputs": [
    {
     "name": "stderr",
     "output_type": "stream",
     "text": [
      "C:\\Users\\acyc0\\anaconda3\\lib\\site-packages\\IPython\\core\\pylabtools.py:151: UserWarning: Glyph 49884 (\\N{HANGUL SYLLABLE SI}) missing from current font.\n",
      "  fig.canvas.print_figure(bytes_io, **kw)\n",
      "C:\\Users\\acyc0\\anaconda3\\lib\\site-packages\\IPython\\core\\pylabtools.py:151: UserWarning: Glyph 44036 (\\N{HANGUL SYLLABLE GAN}) missing from current font.\n",
      "  fig.canvas.print_figure(bytes_io, **kw)\n",
      "C:\\Users\\acyc0\\anaconda3\\lib\\site-packages\\IPython\\core\\pylabtools.py:151: UserWarning: Glyph 47004 (\\N{HANGUL SYLLABLE RAEN}) missing from current font.\n",
      "  fig.canvas.print_figure(bytes_io, **kw)\n",
      "C:\\Users\\acyc0\\anaconda3\\lib\\site-packages\\IPython\\core\\pylabtools.py:151: UserWarning: Glyph 45924 (\\N{HANGUL SYLLABLE DEOM}) missing from current font.\n",
      "  fig.canvas.print_figure(bytes_io, **kw)\n",
      "C:\\Users\\acyc0\\anaconda3\\lib\\site-packages\\IPython\\core\\pylabtools.py:151: UserWarning: Glyph 44050 (\\N{HANGUL SYLLABLE GABS}) missing from current font.\n",
      "  fig.canvas.print_figure(bytes_io, **kw)\n"
     ]
    },
    {
     "data": {
      "image/png": "[encoded data removed]",
      "text/plain": [
       "<Figure size 432x288 with 1 Axes>"
      ]
     },
     "metadata": {
      "image/png": {
       "height": 265,
       "width": 395
      },
      "needs_background": "light"
     },
     "output_type": "display_data"
    }
   ],
   "source": [
    "import numpy as np\n",
    "import matplotlib.pyplot as plt\n",
    "%matplotlib inline                #한글 폰트 설정을 안해줘서 밑에 빨간 경고가뜸\n",
    "n = 10\n",
    "y = np.random.randn(n)\n",
    "plt.plot(range(n), y, 'b')\n",
    "plt.axis([0, 10, -2, 2])\n",
    "plt.xlabel('시간')\n",
    "plt.ylabel('랜덤 값')\n",
    "plt.show()"
   ]
  },
  {
   "cell_type": "code",
   "execution_count": 309,
   "id": "fbe847fe",
   "metadata": {},
   "outputs": [
    {
     "data": {
      "image/png": "[encoded data removed]",
      "text/plain": [
       "<Figure size 432x288 with 1 Axes>"
      ]
     },
     "metadata": {
      "image/png": {
       "height": 267,
       "width": 393
      },
      "needs_background": "light"
     },
     "output_type": "display_data"
    }
   ],
   "source": [
    "import numpy as np\n",
    "import matplotlib.pyplot as plt\n",
    "\n",
    "import matplotlib as mpl\n",
    "mpl.rcParams['font.family']='Malgun Gothic'  #윈도우   \n",
    "\n",
    "%matplotlib inline\n",
    "n = 10\n",
    "y = np.random.randn(n)\n",
    "plt.plot(range(n), y, 'b')\n",
    "plt.axis([0, 10, -2, 2])\n",
    "plt.xlabel('시간')\n",
    "plt.ylabel('랜덤 값')\n",
    "plt.show()"
   ]
  },
  {
   "cell_type": "code",
   "execution_count": 312,
   "id": "0d322660",
   "metadata": {},
   "outputs": [
    {
     "data": {
      "image/png": "[encoded data removed]",
      "text/plain": [
       "<Figure size 432x288 with 1 Axes>"
      ]
     },
     "metadata": {
      "image/png": {
       "height": 253,
       "width": 377
      },
      "needs_background": "light"
     },
     "output_type": "display_data"
    }
   ],
   "source": [
    "plt.plot([1, 2, 3, 4], [1, 4, 9, 16], 'ro')  # ro는 red로 o로 표시\n",
    "plt.axis([0, 6, 0, 20])\n",
    "plt.show()"
   ]
  },
  {
   "cell_type": "code",
   "execution_count": 313,
   "id": "4985d31f",
   "metadata": {},
   "outputs": [
    {
     "data": {
      "image/png": "[encoded data removed]",
      "text/plain": [
       "<Figure size 432x288 with 1 Axes>"
      ]
     },
     "metadata": {
      "image/png": {
       "height": 253,
       "width": 377
      },
      "needs_background": "light"
     },
     "output_type": "display_data"
    }
   ],
   "source": [
    "plt.plot([1, 2, 3, 4], [1, 4, 9, 16])\n",
    "plt.axis([0, 6, 0, 20])\n",
    "plt.show()"
   ]
  },
  {
   "cell_type": "markdown",
   "id": "5b0d616a",
   "metadata": {},
   "source": [
    "# Functions\n",
    "- a block of code which only runs when it is called\n",
    "- you can pass parameter(arguments) into a function.\n",
    "- A function can return the result. (by default, functions return Non)"
   ]
  },
  {
   "cell_type": "markdown",
   "id": "3765d1af",
   "metadata": {},
   "source": [
    "##  Scope and Global variables\n",
    "- Variables created outside of a function are knwon as global variables.\n",
    "- when vriables are created inside a function, the variables are local, and can only be used inside that function.\n",
    "- to change the value of a global vriable inside a function, use \"global\" keyword\n",
    "- if you use \"gobal\" keyword, it belongs to the global scope."
   ]
  },
  {
   "cell_type": "code",
   "execution_count": 314,
   "id": "10f1a0e9",
   "metadata": {},
   "outputs": [
    {
     "name": "stdout",
     "output_type": "stream",
     "text": [
      "outside of function: 11 2141863766640 22 2141863766992\n",
      "inside of sunction: 77 2141863957232 88 2141863957584\n",
      "after function call: 11 2141863766640 88 2141863957584\n"
     ]
    }
   ],
   "source": [
    "# global varibles - created outside of a function\n",
    "# \n",
    "x = 11\n",
    "y = 22\n",
    "print(\"outside of function:\", x, id(x),y,  id(y))\n",
    "def my_func():\n",
    "    x = 77\n",
    "    global y\n",
    "    y = 88\n",
    "    print(\"inside of sunction:\", x, id(x), y,id(y))\n",
    "\n",
    "my_func()\n",
    "print(\"after function call:\", x, id(x), y, id(y))"
   ]
  },
  {
   "cell_type": "code",
   "execution_count": 315,
   "id": "4ea1966e",
   "metadata": {},
   "outputs": [
    {
     "data": {
      "text/plain": [
       "10"
      ]
     },
     "execution_count": 315,
     "metadata": {},
     "output_type": "execute_result"
    }
   ],
   "source": [
    "def my_func(x): \n",
    "    return x*2\n",
    "    \n",
    "my_func(5)"
   ]
  },
  {
   "cell_type": "code",
   "execution_count": 316,
   "id": "e8d089d1",
   "metadata": {},
   "outputs": [
    {
     "data": {
      "text/plain": [
       "200"
      ]
     },
     "execution_count": 316,
     "metadata": {},
     "output_type": "execute_result"
    }
   ],
   "source": [
    "def double(x =100):     # 함수의 인자를 default 값으로 지정 가능\n",
    "    return x*2\n",
    "    \n",
    "double()"
   ]
  },
  {
   "cell_type": "code",
   "execution_count": 317,
   "id": "da9650f3",
   "metadata": {},
   "outputs": [
    {
     "data": {
      "text/plain": [
       "(8, 12)"
      ]
     },
     "execution_count": 317,
     "metadata": {},
     "output_type": "execute_result"
    }
   ],
   "source": [
    "def double_triple(x):      # 두 개 이상의 결과 값 리턴 가능 (튜플로 처리)\n",
    "    return x*2, x*3\n",
    "x, y = double_triple(4)\n",
    "x, y"
   ]
  },
  {
   "cell_type": "code",
   "execution_count": 321,
   "id": "2f848d32",
   "metadata": {},
   "outputs": [
    {
     "name": "stdout",
     "output_type": "stream",
     "text": [
      "The sum is :  9\n"
     ]
    }
   ],
   "source": [
    "def kwarg_func(x1, x2, x3):\n",
    "    print(\"The sum is : \", x1+x2+x3*3)\n",
    "\n",
    "kwarg_func(x1=4, x3=1, x2=2)   # 인자에 맞게 알아서 잘 들어감"
   ]
  },
  {
   "cell_type": "markdown",
   "id": "3b18e721",
   "metadata": {},
   "source": [
    "# 뭔지 모르겠음 ㅇㅇ\n",
    "\n",
    "- variadic (가변인자) positional/keyword arguments using \"*\"\n",
    "- \\*args (positional arguments) and **kwargs (keyword arguments)"
   ]
  },
  {
   "cell_type": "code",
   "execution_count": 322,
   "id": "d135816e",
   "metadata": {},
   "outputs": [
    {
     "name": "stdout",
     "output_type": "stream",
     "text": [
      "a b ('c', 'd')\n"
     ]
    }
   ],
   "source": [
    "def print_param(x, y, *args):   # 정해지지 않은 여러개의 파라미터\n",
    "    print (x, y, args)          # args stored in tuple\n",
    "    # for p in args:\n",
    "    #    print(p)\n",
    "        \n",
    "print_param('a','b','c','d')"
   ]
  },
  {
   "cell_type": "code",
   "execution_count": 323,
   "id": "a43c41c4",
   "metadata": {},
   "outputs": [
    {
     "name": "stdout",
     "output_type": "stream",
     "text": [
      "{'a': 1, 'b': 2, 'c': 3}\n"
     ]
    }
   ],
   "source": [
    "def print_param2(**kwargs):   # 파라미터 명을 함께 (dict 형태)\n",
    "    print (kwargs)            # kwargs stored in dict\n",
    "    # print (kwargs.keys())\n",
    "    # print (kwargs.values())\n",
    "    # for name, value in kwargs.items():\n",
    "    #    print(\"{} : {}\".format(name, value))\n",
    "\n",
    "print_param2 (a = 1, b = 2, c = 3)"
   ]
  },
  {
   "cell_type": "code",
   "execution_count": 324,
   "id": "15c98628",
   "metadata": {},
   "outputs": [],
   "source": [
    "def foo(a,b,c,*args):\n",
    "    print (a, b, c)\n",
    "    print (args)"
   ]
  },
  {
   "cell_type": "code",
   "execution_count": 325,
   "id": "aec6a6da",
   "metadata": {},
   "outputs": [
    {
     "name": "stdout",
     "output_type": "stream",
     "text": [
      "testa testb testc\n",
      "('excess',)\n"
     ]
    }
   ],
   "source": [
    "foo(\"testa\",\"testb\",\"testc\",\"excess\")"
   ]
  },
  {
   "cell_type": "code",
   "execution_count": 326,
   "id": "fdfd81c8",
   "metadata": {},
   "outputs": [],
   "source": [
    "argtuple = (\"testa\",\"testb\",\"testc\",\"excess\")"
   ]
  },
  {
   "cell_type": "code",
   "execution_count": 328,
   "id": "1c67645d",
   "metadata": {},
   "outputs": [],
   "source": [
    "#foo(argtuple)          # error (최소 3 개의 인자 (a,b,c) 가 필요함), 그런데 1 개의 tuple "
   ]
  },
  {
   "cell_type": "code",
   "execution_count": 329,
   "id": "3abaed99",
   "metadata": {},
   "outputs": [
    {
     "name": "stdout",
     "output_type": "stream",
     "text": [
      "testa testb testc\n",
      "('excess',)\n"
     ]
    }
   ],
   "source": [
    "foo(*argtuple)          # * 가 container 변수들을 unpacking 해줌."
   ]
  },
  {
   "cell_type": "code",
   "execution_count": 330,
   "id": "4935efb8",
   "metadata": {},
   "outputs": [
    {
     "name": "stdout",
     "output_type": "stream",
     "text": [
      "apple\n",
      "banana\n",
      "cherry\n",
      "(['apple', 'banana', 'cherry'],)\n"
     ]
    }
   ],
   "source": [
    "# can also pass a list as an argument\n",
    "def foo2(food):\n",
    "    for x in food:\n",
    "        print(x)\n",
    "\n",
    "fruits = ['apple', 'banana', 'cherry']\n",
    "foo2(fruits)\n",
    "\n",
    "# similar function define\n",
    "def foo3(*food):\n",
    "    print(food)\n",
    "\n",
    "fruits = ['apple', 'banana', 'cherry']\n",
    "foo3(fruits)"
   ]
  },
  {
   "cell_type": "code",
   "execution_count": 331,
   "id": "055cc9ae",
   "metadata": {},
   "outputs": [
    {
     "name": "stdout",
     "output_type": "stream",
     "text": [
      "([1, 2, 3, 4],)\n",
      "(1, 2, 3, 4)\n"
     ]
    },
    {
     "data": {
      "text/plain": [
       "(([1, 2, 3, 4],), (1, 2, 3, 4))"
      ]
     },
     "execution_count": 331,
     "metadata": {},
     "output_type": "execute_result"
    }
   ],
   "source": [
    "# one more simple example\n",
    "def my_func(*param):\n",
    "    print(param)\n",
    "    return param\n",
    "\n",
    "a = [1,2,3,4]\n",
    "x = my_func(a)   # a single argument (a single list)\n",
    "y = my_func(*a)  # unpacked arguments (four integers)\n",
    "x, y"
   ]
  },
  {
   "cell_type": "code",
   "execution_count": 332,
   "id": "7a70a5ea",
   "metadata": {},
   "outputs": [
    {
     "name": "stdout",
     "output_type": "stream",
     "text": [
      "{'x0': 1, 'x2': 2, 'x1': 3}\n",
      "received arguments are:  1 3 2\n"
     ]
    }
   ],
   "source": [
    "# arbitrary keyword arguments, **kwargs\n",
    "def my_func2(**kid):\n",
    "    print (kid)\n",
    "    print (\"received arguments are: \", kid['x0'], kid['x1'], kid['x2'])\n",
    "\n",
    "my_func2(x0=1, x2=2, x1=3)"
   ]
  },
  {
   "cell_type": "code",
   "execution_count": 333,
   "id": "2f0214e0",
   "metadata": {},
   "outputs": [
    {
     "name": "stdout",
     "output_type": "stream",
     "text": [
      "{'location': 'princeton', 'field': 'physics'}\n",
      "{'location': 'princeton', 'field': 'physics', 'first_name': 'albert', 'last_name': 'einstein'}\n"
     ]
    }
   ],
   "source": [
    "# one more example \n",
    "def build_profile(first, last, **user_info):\n",
    "    print(user_info)\n",
    "    user_info['first_name'] = first\n",
    "    user_info['last_name'] = last\n",
    "    return user_info\n",
    "\n",
    "user_profile = build_profile('albert', 'einstein',\n",
    "                             location = 'princeton',\n",
    "                             field = 'physics')\n",
    "print(user_profile)"
   ]
  },
  {
   "cell_type": "markdown",
   "id": "195919ae",
   "metadata": {},
   "source": [
    "# Lambda function\n",
    "- a small anonymous function\n",
    "- can take any number of arguments, but can only have one expression"
   ]
  },
  {
   "cell_type": "code",
   "execution_count": 334,
   "id": "0505a0ed",
   "metadata": {},
   "outputs": [
    {
     "name": "stdout",
     "output_type": "stream",
     "text": [
      "15\n"
     ]
    }
   ],
   "source": [
    "x = lambda a : a + 10\n",
    "print(x(5))"
   ]
  },
  {
   "cell_type": "markdown",
   "id": "66e1bb0b",
   "metadata": {},
   "source": [
    "# call by object reference\n",
    "- if the value passed is immutable, the function does not modify the caller's value. (call by value)\n",
    "- if it is mutable, the function may modify the caller's variable in-place. (call by reference)"
   ]
  },
  {
   "cell_type": "code",
   "execution_count": 339,
   "id": "27e09e6b",
   "metadata": {},
   "outputs": [
    {
     "name": "stdout",
     "output_type": "stream",
     "text": [
      "77 [99]\n",
      "inside function: 2141863960432 2142073130752\n",
      "177 [99, 42]\n",
      "77 [99, 42]\n"
     ]
    }
   ],
   "source": [
    "def try_to_modify(x, y):\n",
    "    x += 100           # new object will be created\n",
    "    y.append(42)       # same object\n",
    "    print(\"inside function:\", id(x), id(y))\n",
    "    print(x,y)\n",
    "    return\n",
    "   \n",
    "a = 77     # int - immutable variable\n",
    "b = [99]   # list - mutable variable\n",
    "\n",
    "#print(a,b,id(a),id(b))\n",
    "#try_to_modify(a,b)\n",
    "#print (a,b,id(a),id(b))\n",
    "\n",
    "print(a,b)\n",
    "try_to_modify(a,b)\n",
    "print (a,b)"
   ]
  },
  {
   "cell_type": "code",
   "execution_count": 337,
   "id": "00a093f9",
   "metadata": {},
   "outputs": [
    {
     "name": "stdout",
     "output_type": "stream",
     "text": [
      "77 [99]\n",
      "177 [99, 42]\n"
     ]
    }
   ],
   "source": [
    "def try_to_modify_2(x, y):\n",
    "    x += 100\n",
    "    y.append(42)\n",
    "    return x, y, id(x), id(y)  ## 여기로 인해 바뀐듯?\n",
    "a = 77\n",
    "b = [99]\n",
    "\n",
    "# print(a,b, id(a), id(b))\n",
    "# a, b, ida, idb = try_to_modify_2(a,b)   # different a, same b\n",
    "# print(a,b, ida, idb)\n",
    "\n",
    "print(a,b)\n",
    "a, b, _, _ = try_to_modify_2(a,b)   # different a, same b\n",
    "print(a,b)"
   ]
  },
  {
   "cell_type": "code",
   "execution_count": 338,
   "id": "d895b728",
   "metadata": {},
   "outputs": [
    {
     "name": "stdout",
     "output_type": "stream",
     "text": [
      "[1, 2, 3] 2142038861568\n",
      "[1, 2, 3, 4] 2142038861568 \n",
      "\n",
      "[1, 2, 3, 4] 2142073439808\n",
      "7 2141863766512\n",
      "8 2141863766544\n"
     ]
    }
   ],
   "source": [
    "# just to see whether or not a is the same.\n",
    "a=[1,2,3]\n",
    "print(a, id(a))\n",
    "a.append(4)        # same object\n",
    "print(a, id(a),'\\n')\n",
    "a2 = a.copy()      # different object created\n",
    "print(a2, id(a2))\n",
    "\n",
    "b=7\n",
    "print(b, id(b))\n",
    "b += 1             # different object\n",
    "print(b, id(b))"
   ]
  },
  {
   "cell_type": "markdown",
   "id": "ba69728a",
   "metadata": {},
   "source": [
    "# Decorator\n",
    "- The following shows that the function/method/class you're defining after a decorator is just basically passed on as an argument to the function/method immediately after the @ sign.\n",
    "- https://www.programiz.com/python-programming/decorator"
   ]
  },
  {
   "cell_type": "code",
   "execution_count": 340,
   "id": "20824c31",
   "metadata": {},
   "outputs": [
    {
     "name": "stdout",
     "output_type": "stream",
     "text": [
      "Hello\n",
      "Hello\n"
     ]
    }
   ],
   "source": [
    "def first(msg):\n",
    "    print(msg)\n",
    "\n",
    "first(\"Hello\")\n",
    "\n",
    "second = first  # everything is an pbject (including functions)\n",
    "second(\"Hello\")"
   ]
  },
  {
   "cell_type": "code",
   "execution_count": 341,
   "id": "f954e996",
   "metadata": {},
   "outputs": [],
   "source": [
    "# Functions can be passed as arguments to another function.\n",
    "def inc(x):\n",
    "    return x + 1\n",
    "\n",
    "def dec(x):\n",
    "    return x - 1\n",
    "\n",
    "def operate(func, x):\n",
    "    result = func(x)\n",
    "    return result"
   ]
  },
  {
   "cell_type": "code",
   "execution_count": 342,
   "id": "edead914",
   "metadata": {},
   "outputs": [
    {
     "name": "stdout",
     "output_type": "stream",
     "text": [
      "4\n",
      "2\n"
     ]
    }
   ],
   "source": [
    "print(operate(inc,3))\n",
    "print(operate(dec,3))"
   ]
  },
  {
   "cell_type": "code",
   "execution_count": 343,
   "id": "630501f1",
   "metadata": {},
   "outputs": [
    {
     "name": "stdout",
     "output_type": "stream",
     "text": [
      "Hello\n"
     ]
    }
   ],
   "source": [
    "# Furthermore, a function can return another function.\n",
    "def is_called():\n",
    "    def is_returned():\n",
    "        print(\"Hello\")\n",
    "    return is_returned\n",
    "\n",
    "\n",
    "new = is_called()\n",
    "\n",
    "# Outputs \"Hello\"\n",
    "new()"
   ]
  },
  {
   "cell_type": "code",
   "execution_count": 344,
   "id": "b9233f60",
   "metadata": {},
   "outputs": [
    {
     "data": {
      "text/plain": [
       "<function __main__.is_called.<locals>.is_returned()>"
      ]
     },
     "execution_count": 344,
     "metadata": {},
     "output_type": "execute_result"
    }
   ],
   "source": [
    "is_called()"
   ]
  },
  {
   "cell_type": "code",
   "execution_count": 345,
   "id": "7aad0ce1",
   "metadata": {},
   "outputs": [],
   "source": [
    "def make_pretty(func):\n",
    "    def inner():\n",
    "        print(\"I got decorated\")\n",
    "        func()\n",
    "    return inner\n",
    "\n",
    "def ordinary():\n",
    "    print(\"I am ordinary\")"
   ]
  },
  {
   "cell_type": "code",
   "execution_count": 346,
   "id": "5d41f573",
   "metadata": {},
   "outputs": [
    {
     "name": "stdout",
     "output_type": "stream",
     "text": [
      "I am ordinary\n",
      "I got decorated\n",
      "I am ordinary\n"
     ]
    }
   ],
   "source": [
    "ordinary()\n",
    "\n",
    "# let's decorate this ordinary function\n",
    "pretty = make_pretty(ordinary)\n",
    "pretty()"
   ]
  },
  {
   "cell_type": "code",
   "execution_count": null,
   "id": "ae8cc2b6",
   "metadata": {},
   "outputs": [],
   "source": []
  },
  {
   "cell_type": "code",
   "execution_count": null,
   "id": "335e8482",
   "metadata": {},
   "outputs": [],
   "source": []
  },
  {
   "cell_type": "code",
   "execution_count": null,
   "id": "0a7b0ec5",
   "metadata": {},
   "outputs": [],
   "source": []
  },
  {
   "cell_type": "code",
   "execution_count": null,
   "id": "aaf40f65",
   "metadata": {},
   "outputs": [],
   "source": []
  },
  {
   "cell_type": "code",
   "execution_count": null,
   "id": "e00e36e6",
   "metadata": {},
   "outputs": [],
   "source": []
  },
  {
   "cell_type": "code",
   "execution_count": null,
   "id": "d03a1fbe",
   "metadata": {},
   "outputs": [],
   "source": []
  },
  {
   "cell_type": "code",
   "execution_count": null,
   "id": "67054b97",
   "metadata": {},
   "outputs": [],
   "source": []
  },
  {
   "cell_type": "code",
   "execution_count": null,
   "id": "a8c185db",
   "metadata": {},
   "outputs": [],
   "source": []
  },
  {
   "cell_type": "code",
   "execution_count": null,
   "id": "3f6bbf12",
   "metadata": {},
   "outputs": [],
   "source": []
  },
  {
   "cell_type": "code",
   "execution_count": null,
   "id": "71e420fd",
   "metadata": {},
   "outputs": [],
   "source": []
  },
  {
   "cell_type": "code",
   "execution_count": null,
   "id": "6cf9c65b",
   "metadata": {},
   "outputs": [],
   "source": []
  },
  {
   "cell_type": "code",
   "execution_count": null,
   "id": "a7d25444",
   "metadata": {},
   "outputs": [],
   "source": []
  },
  {
   "cell_type": "code",
   "execution_count": null,
   "id": "0a73e97d",
   "metadata": {},
   "outputs": [],
   "source": []
  },
  {
   "cell_type": "code",
   "execution_count": null,
   "id": "bc49baac",
   "metadata": {},
   "outputs": [],
   "source": []
  },
  {
   "cell_type": "code",
   "execution_count": null,
   "id": "3388ac23",
   "metadata": {},
   "outputs": [],
   "source": []
  },
  {
   "cell_type": "code",
   "execution_count": null,
   "id": "ca4ab2c6",
   "metadata": {},
   "outputs": [],
   "source": []
  },
  {
   "cell_type": "code",
   "execution_count": null,
   "id": "00beca4e",
   "metadata": {},
   "outputs": [],
   "source": []
  },
  {
   "cell_type": "code",
   "execution_count": null,
   "id": "0e75307d",
   "metadata": {},
   "outputs": [],
   "source": []
  },
  {
   "cell_type": "code",
   "execution_count": null,
   "id": "f22c0935",
   "metadata": {},
   "outputs": [],
   "source": []
  },
  {
   "cell_type": "code",
   "execution_count": null,
   "id": "c022c47b",
   "metadata": {},
   "outputs": [],
   "source": []
  },
  {
   "cell_type": "code",
   "execution_count": null,
   "id": "d4e7c90f",
   "metadata": {},
   "outputs": [],
   "source": []
  },
  {
   "cell_type": "code",
   "execution_count": null,
   "id": "50037264",
   "metadata": {},
   "outputs": [],
   "source": []
  },
  {
   "cell_type": "code",
   "execution_count": null,
   "id": "ae006d9c",
   "metadata": {},
   "outputs": [],
   "source": []
  },
  {
   "cell_type": "code",
   "execution_count": null,
   "id": "c45871a8",
   "metadata": {},
   "outputs": [],
   "source": []
  },
  {
   "cell_type": "code",
   "execution_count": null,
   "id": "43049bb5",
   "metadata": {},
   "outputs": [],
   "source": []
  },
  {
   "cell_type": "code",
   "execution_count": null,
   "id": "4a38d0be",
   "metadata": {},
   "outputs": [],
   "source": []
  },
  {
   "cell_type": "code",
   "execution_count": null,
   "id": "9db9bae9",
   "metadata": {},
   "outputs": [],
   "source": []
  },
  {
   "cell_type": "code",
   "execution_count": null,
   "id": "6b39999f",
   "metadata": {},
   "outputs": [],
   "source": []
  },
  {
   "cell_type": "code",
   "execution_count": null,
   "id": "72bdd0ca",
   "metadata": {},
   "outputs": [],
   "source": []
  },
  {
   "cell_type": "code",
   "execution_count": null,
   "id": "754482ca",
   "metadata": {},
   "outputs": [],
   "source": []
  },
  {
   "cell_type": "code",
   "execution_count": null,
   "id": "9c61f6a0",
   "metadata": {},
   "outputs": [],
   "source": []
  },
  {
   "cell_type": "code",
   "execution_count": null,
   "id": "dc01fe74",
   "metadata": {},
   "outputs": [],
   "source": []
  },
  {
   "cell_type": "code",
   "execution_count": null,
   "id": "2ca8909f",
   "metadata": {},
   "outputs": [],
   "source": []
  },
  {
   "cell_type": "code",
   "execution_count": null,
   "id": "c9ae58ea",
   "metadata": {},
   "outputs": [],
   "source": []
  },
  {
   "cell_type": "code",
   "execution_count": null,
   "id": "7b7b86b7",
   "metadata": {},
   "outputs": [],
   "source": []
  },
  {
   "cell_type": "code",
   "execution_count": null,
   "id": "ac4b0236",
   "metadata": {},
   "outputs": [],
   "source": []
  }
 ],
 "metadata": {
  "kernelspec": {
   "display_name": "Python 3 (ipykernel)",
   "language": "python",
   "name": "python3"
  },
  "language_info": {
   "codemirror_mode": {
    "name": "ipython",
    "version": 3
   },
   "file_extension": ".py",
   "mimetype": "text/x-python",
   "name": "python",
   "nbconvert_exporter": "python",
   "pygments_lexer": "ipython3",
   "version": "3.9.12"
  }
 },
 "nbformat": 4,
 "nbformat_minor": 5
}
