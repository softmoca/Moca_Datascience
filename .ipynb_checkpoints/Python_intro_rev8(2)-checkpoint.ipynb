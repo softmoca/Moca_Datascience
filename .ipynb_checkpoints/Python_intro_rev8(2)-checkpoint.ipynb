{
 "cells": [
  {
   "cell_type": "markdown",
   "id": "22649954",
   "metadata": {},
   "source": [
    "# Jupyer Notebook Magic coommands"
   ]
  },
  {
   "cell_type": "code",
   "execution_count": 32,
   "id": "5901e446",
   "metadata": {},
   "outputs": [
    {
     "name": "stdout",
     "output_type": "stream",
     "text": [
      "Overwriting test_py1.py\n"
     ]
    }
   ],
   "source": [
    "%%writefile test_py1.py                     \n",
    "import numpy as np\n",
    "N=3                               \n",
    "for i in range(N):\n",
    "    print(\"pi is:\",np.pi)"
   ]
  },
  {
   "cell_type": "code",
   "execution_count": 33,
   "id": "03991c3a",
   "metadata": {
    "scrolled": true
   },
   "outputs": [
    {
     "name": "stdout",
     "output_type": "stream",
     "text": [
      " C 드라이브의 볼륨에는 이름이 없습니다.\n",
      " 볼륨 일련 번호: 4221-0BD5\n",
      "\n",
      " C:\\Users\\acyc0\\DataScience\\Moca_Datascience 디렉터리\n",
      "\n",
      "2022-10-05  오후 09:01    <DIR>          .\n",
      "2022-10-05  오후 09:01    <DIR>          ..\n",
      "2022-10-05  오후 08:09    <DIR>          .ipynb_checkpoints\n",
      "2022-10-05  오후 09:01             4,140 Python_intro_rev8(2).ipynb\n",
      "2022-10-05  오후 09:02               103 test_py1.py\n",
      "               2개 파일               4,243 바이트\n",
      "               3개 디렉터리  245,345,325,056 바이트 남음\n"
     ]
    }
   ],
   "source": [
    "!dir        "
   ]
  },
  {
   "cell_type": "code",
   "execution_count": 34,
   "id": "07c7d473",
   "metadata": {},
   "outputs": [
    {
     "name": "stdout",
     "output_type": "stream",
     "text": [
      "import numpy as np\n",
      "N=3                               \n",
      "for i in range(N):\n",
      "    print(\"pi is:\",np.pi)\n"
     ]
    }
   ],
   "source": [
    "!type test_py1.py        "
   ]
  },
  {
   "cell_type": "code",
   "execution_count": 35,
   "id": "36763454",
   "metadata": {},
   "outputs": [
    {
     "name": "stdout",
     "output_type": "stream",
     "text": [
      "pi is: 3.141592653589793\n",
      "pi is: 3.141592653589793\n",
      "pi is: 3.141592653589793\n"
     ]
    }
   ],
   "source": [
    "%run test_py1.py"
   ]
  },
  {
   "cell_type": "code",
   "execution_count": 46,
   "id": "b5bf523c",
   "metadata": {
    "scrolled": true
   },
   "outputs": [
    {
     "name": "stdout",
     "output_type": "stream",
     "text": [
      "Variable   Type      Data/Info\n",
      "------------------------------\n",
      "N          int       3\n",
      "i          int       2\n",
      "np         module    <module 'numpy' from 'C:\\<...>ges\\\\numpy\\\\__init__.py'>\n"
     ]
    }
   ],
   "source": [
    "%whos  \n",
    "# 메모리에 저장된 변수들 보기"
   ]
  },
  {
   "cell_type": "code",
   "execution_count": 48,
   "id": "2c6cf943",
   "metadata": {},
   "outputs": [
    {
     "name": "stdout",
     "output_type": "stream",
     "text": [
      "272 µs ± 30.7 µs per loop (mean ± std. dev. of 7 runs, 1,000 loops each)\n"
     ]
    }
   ],
   "source": [
    "%timeit L = [n ** 2 for n in range(1000)]       #코드의 소요시간측정 앞에 씀."
   ]
  },
  {
   "cell_type": "code",
   "execution_count": 50,
   "id": "a3be4edb",
   "metadata": {},
   "outputs": [],
   "source": [
    "%timeit?"
   ]
  },
  {
   "cell_type": "code",
   "execution_count": 52,
   "id": "f93e96ff",
   "metadata": {},
   "outputs": [],
   "source": [
    "%magic         # 파일 처리 등을 위해 파일 탐색기 작업 등을 수행 할 때 사용"
   ]
  },
  {
   "cell_type": "code",
   "execution_count": 53,
   "id": "056f6f62",
   "metadata": {},
   "outputs": [
    {
     "data": {
      "application/json": {
       "cell": {
        "!": "OSMagics",
        "HTML": "Other",
        "SVG": "Other",
        "bash": "Other",
        "capture": "ExecutionMagics",
        "cmd": "Other",
        "debug": "ExecutionMagics",
        "file": "Other",
        "html": "DisplayMagics",
        "javascript": "DisplayMagics",
        "js": "DisplayMagics",
        "latex": "DisplayMagics",
        "markdown": "DisplayMagics",
        "perl": "Other",
        "prun": "ExecutionMagics",
        "pypy": "Other",
        "python": "Other",
        "python2": "Other",
        "python3": "Other",
        "ruby": "Other",
        "script": "ScriptMagics",
        "sh": "Other",
        "svg": "DisplayMagics",
        "sx": "OSMagics",
        "system": "OSMagics",
        "time": "ExecutionMagics",
        "timeit": "ExecutionMagics",
        "writefile": "OSMagics"
       },
       "line": {
        "alias": "OSMagics",
        "alias_magic": "BasicMagics",
        "autoawait": "AsyncMagics",
        "autocall": "AutoMagics",
        "automagic": "AutoMagics",
        "autosave": "KernelMagics",
        "bookmark": "OSMagics",
        "cd": "OSMagics",
        "clear": "KernelMagics",
        "cls": "KernelMagics",
        "colors": "BasicMagics",
        "conda": "PackagingMagics",
        "config": "ConfigMagics",
        "connect_info": "KernelMagics",
        "copy": "Other",
        "ddir": "Other",
        "debug": "ExecutionMagics",
        "dhist": "OSMagics",
        "dirs": "OSMagics",
        "doctest_mode": "BasicMagics",
        "echo": "Other",
        "ed": "Other",
        "edit": "KernelMagics",
        "env": "OSMagics",
        "gui": "BasicMagics",
        "hist": "Other",
        "history": "HistoryMagics",
        "killbgscripts": "ScriptMagics",
        "ldir": "Other",
        "less": "KernelMagics",
        "load": "CodeMagics",
        "load_ext": "ExtensionMagics",
        "loadpy": "CodeMagics",
        "logoff": "LoggingMagics",
        "logon": "LoggingMagics",
        "logstart": "LoggingMagics",
        "logstate": "LoggingMagics",
        "logstop": "LoggingMagics",
        "ls": "Other",
        "lsmagic": "BasicMagics",
        "macro": "ExecutionMagics",
        "magic": "BasicMagics",
        "matplotlib": "PylabMagics",
        "mkdir": "Other",
        "more": "KernelMagics",
        "notebook": "BasicMagics",
        "page": "BasicMagics",
        "pastebin": "CodeMagics",
        "pdb": "ExecutionMagics",
        "pdef": "NamespaceMagics",
        "pdoc": "NamespaceMagics",
        "pfile": "NamespaceMagics",
        "pinfo": "NamespaceMagics",
        "pinfo2": "NamespaceMagics",
        "pip": "PackagingMagics",
        "popd": "OSMagics",
        "pprint": "BasicMagics",
        "precision": "BasicMagics",
        "prun": "ExecutionMagics",
        "psearch": "NamespaceMagics",
        "psource": "NamespaceMagics",
        "pushd": "OSMagics",
        "pwd": "OSMagics",
        "pycat": "OSMagics",
        "pylab": "PylabMagics",
        "qtconsole": "KernelMagics",
        "quickref": "BasicMagics",
        "recall": "HistoryMagics",
        "rehashx": "OSMagics",
        "reload_ext": "ExtensionMagics",
        "ren": "Other",
        "rep": "Other",
        "rerun": "HistoryMagics",
        "reset": "NamespaceMagics",
        "reset_selective": "NamespaceMagics",
        "rmdir": "Other",
        "run": "ExecutionMagics",
        "save": "CodeMagics",
        "sc": "OSMagics",
        "set_env": "OSMagics",
        "store": "StoreMagics",
        "sx": "OSMagics",
        "system": "OSMagics",
        "tb": "ExecutionMagics",
        "time": "ExecutionMagics",
        "timeit": "ExecutionMagics",
        "unalias": "OSMagics",
        "unload_ext": "ExtensionMagics",
        "who": "NamespaceMagics",
        "who_ls": "NamespaceMagics",
        "whos": "NamespaceMagics",
        "xdel": "NamespaceMagics",
        "xmode": "BasicMagics"
       }
      },
      "text/plain": [
       "Available line magics:\n",
       "%alias  %alias_magic  %autoawait  %autocall  %automagic  %autosave  %bookmark  %cd  %clear  %cls  %colors  %conda  %config  %connect_info  %copy  %ddir  %debug  %dhist  %dirs  %doctest_mode  %echo  %ed  %edit  %env  %gui  %hist  %history  %killbgscripts  %ldir  %less  %load  %load_ext  %loadpy  %logoff  %logon  %logstart  %logstate  %logstop  %ls  %lsmagic  %macro  %magic  %matplotlib  %mkdir  %more  %notebook  %page  %pastebin  %pdb  %pdef  %pdoc  %pfile  %pinfo  %pinfo2  %pip  %popd  %pprint  %precision  %prun  %psearch  %psource  %pushd  %pwd  %pycat  %pylab  %qtconsole  %quickref  %recall  %rehashx  %reload_ext  %ren  %rep  %rerun  %reset  %reset_selective  %rmdir  %run  %save  %sc  %set_env  %store  %sx  %system  %tb  %time  %timeit  %unalias  %unload_ext  %who  %who_ls  %whos  %xdel  %xmode\n",
       "\n",
       "Available cell magics:\n",
       "%%!  %%HTML  %%SVG  %%bash  %%capture  %%cmd  %%debug  %%file  %%html  %%javascript  %%js  %%latex  %%markdown  %%perl  %%prun  %%pypy  %%python  %%python2  %%python3  %%ruby  %%script  %%sh  %%svg  %%sx  %%system  %%time  %%timeit  %%writefile\n",
       "\n",
       "Automagic is ON, % prefix IS NOT needed for line magics."
      ]
     },
     "execution_count": 53,
     "metadata": {},
     "output_type": "execute_result"
    }
   ],
   "source": [
    "%lsmagic       # 사용가능한 매직 명령어 들을 보여준다."
   ]
  },
  {
   "cell_type": "code",
   "execution_count": 57,
   "id": "ab87298f",
   "metadata": {},
   "outputs": [
    {
     "name": "stdout",
     "output_type": "stream",
     "text": [
      "[1, 2, 3, 4] [1, 2, 3, 4]\n",
      "2724690531200 2724690531200\n"
     ]
    }
   ],
   "source": [
    "a=[1,2,3]\n",
    "b=a\n",
    "b.append(4)\n",
    "\n",
    "c      # 아이디가 같다     리스트는 뮤터블 같은 객체"
   ]
  },
  {
   "cell_type": "code",
   "execution_count": 59,
   "id": "f787a93b",
   "metadata": {},
   "outputs": [
    {
     "name": "stdout",
     "output_type": "stream",
     "text": [
      "10 30\n",
      "2724560726608 2724560727248\n"
     ]
    }
   ],
   "source": [
    "a=10\n",
    "\n",
    "b=a\n",
    "b+=20\n",
    "print(a,b)\n",
    "print(id(a),id(b))    # 아이디가 다르다   int 는 임뮤터블"
   ]
  },
  {
   "cell_type": "code",
   "execution_count": 62,
   "id": "fd170b1b",
   "metadata": {},
   "outputs": [
    {
     "data": {
      "text/plain": [
       "2724682449344"
      ]
     },
     "execution_count": 62,
     "metadata": {},
     "output_type": "execute_result"
    }
   ],
   "source": [
    "x = ('apple', 'banana', 'cherry')\n",
    "id(x)        # 이 값은 객체의 메모리주소이고 매번 다르다"
   ]
  },
  {
   "cell_type": "code",
   "execution_count": 66,
   "id": "c09972d0",
   "metadata": {},
   "outputs": [
    {
     "data": {
      "text/plain": [
       "([1, 2, 3, 4, 5], 25)"
      ]
     },
     "execution_count": 66,
     "metadata": {},
     "output_type": "execute_result"
    }
   ],
   "source": [
    "w = [1, 2, 3,\n",
    "     4, 5]\n",
    "x = 4 + 3 + 5 + 6 \\\n",
    "    + 7\n",
    "w, x"
   ]
  },
  {
   "cell_type": "markdown",
   "id": "88592900",
   "metadata": {},
   "source": [
    "# input/Output"
   ]
  },
  {
   "cell_type": "code",
   "execution_count": 68,
   "id": "1771dfbb",
   "metadata": {},
   "outputs": [
    {
     "name": "stdout",
     "output_type": "stream",
     "text": [
      "56\n"
     ]
    },
    {
     "data": {
      "text/plain": [
       "(str, '56', 56.0)"
      ]
     },
     "execution_count": 68,
     "metadata": {},
     "output_type": "execute_result"
    }
   ],
   "source": [
    "x=input()        # 문자열로 받아들인다.\n",
    "type(x),x,float(x)"
   ]
  },
  {
   "cell_type": "code",
   "execution_count": 70,
   "id": "c06ef0a6",
   "metadata": {},
   "outputs": [
    {
     "data": {
      "text/plain": [
       "5"
      ]
     },
     "execution_count": 70,
     "metadata": {},
     "output_type": "execute_result"
    }
   ],
   "source": [
    "3+2"
   ]
  },
  {
   "cell_type": "code",
   "execution_count": 71,
   "id": "a326a6ff",
   "metadata": {},
   "outputs": [
    {
     "name": "stdout",
     "output_type": "stream",
     "text": [
      "5\n"
     ]
    }
   ],
   "source": [
    "print(3+2)"
   ]
  },
  {
   "cell_type": "code",
   "execution_count": 73,
   "id": "6ea9b65f",
   "metadata": {},
   "outputs": [
    {
     "name": "stdout",
     "output_type": "stream",
     "text": [
      "We are the knight who say \"Ni!\"\n",
      "spam and eggs\n",
      "eggs and spam\n"
     ]
    }
   ],
   "source": [
    "print('We are the {} who say \"{}!\"'.format('knight','Ni'))\n",
    "print('{0} and {1}'.format('spam','eggs'))\n",
    "print('{1} and {0}'.format('spam','eggs'))\n",
    "\n",
    "# 문자열 사이에 변수의 값을 넣어주기 위해 사용\n"
   ]
  },
  {
   "cell_type": "code",
   "execution_count": 78,
   "id": "0a7f4900",
   "metadata": {},
   "outputs": [
    {
     "name": "stdout",
     "output_type": "stream",
     "text": [
      " 1   1      1\n",
      " 2   4      8\n",
      " 3   9     27\n",
      " 4  16     64\n"
     ]
    }
   ],
   "source": [
    "for x in range(1, 5):           # 자리수 2d,4d,6d\n",
    "    print('{0:2d} {1:3d} {2:6d}'.format(x, x*x, x*x*x))"
   ]
  },
  {
   "cell_type": "code",
   "execution_count": 81,
   "id": "5ed874d0",
   "metadata": {},
   "outputs": [
    {
     "name": "stdout",
     "output_type": "stream",
     "text": [
      "The value of pi is approximately 3.142.\n",
      "Shon       ==>       4127\n",
      "Jack       ==>       4098\n",
      "Debora     ==>       7678\n"
     ]
    }
   ],
   "source": [
    "# output formatting (2): f'{expression}'        문자열 안에 변수값을 쓸떄 진가 발휘\n",
    "import math\n",
    "\n",
    "print(f'The value of pi is approximately {math.pi:.3f}.')\n",
    "\n",
    "table = {'Shon': 4127, 'Jack': 4098, 'Debora': 7678}\n",
    "for name, phone in table.items():\n",
    "    print(f'{name:10} ==> {phone:10d}')"
   ]
  },
  {
   "cell_type": "code",
   "execution_count": 94,
   "id": "95fc7405",
   "metadata": {},
   "outputs": [
    {
     "name": "stdout",
     "output_type": "stream",
     "text": [
      "The value of pi is approximately 3.142.\n"
     ]
    }
   ],
   "source": [
    "# output formatting (3): 'string' % values\n",
    "# - old type\n",
    "\n",
    "import math\n",
    "print('The value of pi is approximately %5.3f.' % math.pi)  # 총 5자리에 소숫점 3개"
   ]
  },
  {
   "cell_type": "markdown",
   "id": "904d2b79",
   "metadata": {},
   "source": [
    "# Basic Types and Built-in Functions"
   ]
  },
  {
   "cell_type": "code",
   "execution_count": 3,
   "id": "84b4dc63",
   "metadata": {},
   "outputs": [
    {
     "data": {
      "text/plain": [
       "(9, 9, True, 9, 9, str, int, '0b1001')"
      ]
     },
     "execution_count": 3,
     "metadata": {},
     "output_type": "execute_result"
    }
   ],
   "source": [
    "a=0b1001     # 이진수 표현\n",
    "b=9              #bin 은 이진수 문자열로 돌려줌\n",
    "a,b,a==b,int(a), int(b), type(bin(a)), type(a) , bin(a) "
   ]
  },
  {
   "cell_type": "code",
   "execution_count": 7,
   "id": "04073002",
   "metadata": {},
   "outputs": [
    {
     "data": {
      "text/plain": [
       "('0x1b', 9, 9)"
      ]
     },
     "execution_count": 7,
     "metadata": {},
     "output_type": "execute_result"
    }
   ],
   "source": [
    "hex(3*a),int(a),a #hex 은 16진수 문자열로 돌려줌"
   ]
  },
  {
   "cell_type": "code",
   "execution_count": 8,
   "id": "09e6a951",
   "metadata": {},
   "outputs": [
    {
     "data": {
      "text/plain": [
       "'0b1001'"
      ]
     },
     "execution_count": 8,
     "metadata": {},
     "output_type": "execute_result"
    }
   ],
   "source": [
    "bin(0b1001 & 0b1111)"
   ]
  },
  {
   "cell_type": "code",
   "execution_count": 9,
   "id": "37ebcf78",
   "metadata": {},
   "outputs": [
    {
     "data": {
      "text/plain": [
       "9"
      ]
     },
     "execution_count": 9,
     "metadata": {},
     "output_type": "execute_result"
    }
   ],
   "source": [
    "a"
   ]
  },
  {
   "cell_type": "code",
   "execution_count": 11,
   "id": "b7ac4c18",
   "metadata": {},
   "outputs": [
    {
     "name": "stderr",
     "output_type": "stream",
     "text": [
      "<>:1: SyntaxWarning: \"is\" with a literal. Did you mean \"==\"?\n",
      "<>:1: SyntaxWarning: \"is not\" with a literal. Did you mean \"!=\"?\n",
      "<>:1: SyntaxWarning: \"is\" with a literal. Did you mean \"==\"?\n",
      "<>:1: SyntaxWarning: \"is\" with a literal. Did you mean \"==\"?\n",
      "<>:1: SyntaxWarning: \"is not\" with a literal. Did you mean \"!=\"?\n",
      "<>:1: SyntaxWarning: \"is\" with a literal. Did you mean \"==\"?\n",
      "C:\\Users\\acyc0\\AppData\\Local\\Temp\\ipykernel_9344\\1298197296.py:1: SyntaxWarning: \"is\" with a literal. Did you mean \"==\"?\n",
      "  3 is 4, 9 is not a,9 is a\n",
      "C:\\Users\\acyc0\\AppData\\Local\\Temp\\ipykernel_9344\\1298197296.py:1: SyntaxWarning: \"is not\" with a literal. Did you mean \"!=\"?\n",
      "  3 is 4, 9 is not a,9 is a\n",
      "C:\\Users\\acyc0\\AppData\\Local\\Temp\\ipykernel_9344\\1298197296.py:1: SyntaxWarning: \"is\" with a literal. Did you mean \"==\"?\n",
      "  3 is 4, 9 is not a,9 is a\n"
     ]
    },
    {
     "data": {
      "text/plain": [
       "(False, False, True)"
      ]
     },
     "execution_count": 11,
     "metadata": {},
     "output_type": "execute_result"
    }
   ],
   "source": [
    "3 is 4, 9 is not a,9 is a      # ==은 오직 값만 확인 is 는 참조가 같은지\n",
    "#  결론: 값과 참조 모두 비교하고 싶으면  is 값만 비교하고 싶으면 =="
   ]
  },
  {
   "cell_type": "code",
   "execution_count": 12,
   "id": "f9aa3f30",
   "metadata": {},
   "outputs": [
    {
     "data": {
      "text/plain": [
       "([1, 2, 3, 4], [1, 2, 3, 4], True, False, 2217962958144, 2217962645184)"
      ]
     },
     "execution_count": 12,
     "metadata": {},
     "output_type": "execute_result"
    }
   ],
   "source": [
    "x=[1,2,3]\n",
    "x.append(4)\n",
    "y=[1,2,3,4]\n",
    "x,y,x==y,x is y, id(x), id(y)"
   ]
  },
  {
   "cell_type": "code",
   "execution_count": 13,
   "id": "8f7d7c0f",
   "metadata": {},
   "outputs": [
    {
     "name": "stdout",
     "output_type": "stream",
     "text": [
      "2\n",
      "<class 'int'>\n",
      "3.5\n",
      "3\n",
      "<class 'int'> <class 'float'>\n"
     ]
    }
   ],
   "source": [
    "print(1+1)\n",
    "\n",
    "x=3\n",
    "print(type(x))\n",
    "\n",
    "y=0.5\n",
    "print(x+y)\n",
    "\n",
    "print(x)\n",
    "print(type(x),type(y))"
   ]
  },
  {
   "cell_type": "code",
   "execution_count": 16,
   "id": "9cd95ff7",
   "metadata": {},
   "outputs": [
    {
     "data": {
      "text/plain": [
       "3"
      ]
     },
     "execution_count": 16,
     "metadata": {},
     "output_type": "execute_result"
    }
   ],
   "source": [
    "(3>4) +3"
   ]
  },
  {
   "cell_type": "code",
   "execution_count": 17,
   "id": "c4f32fba",
   "metadata": {},
   "outputs": [
    {
     "data": {
      "text/plain": [
       "(1.5, 1, 1)"
      ]
     },
     "execution_count": 17,
     "metadata": {},
     "output_type": "execute_result"
    }
   ],
   "source": [
    "3/2,3//2,3%2"
   ]
  },
  {
   "cell_type": "code",
   "execution_count": 18,
   "id": "c84aab5a",
   "metadata": {},
   "outputs": [
    {
     "data": {
      "text/plain": [
       "(False, bool)"
      ]
     },
     "execution_count": 18,
     "metadata": {},
     "output_type": "execute_result"
    }
   ],
   "source": [
    "test=(3>4)\n",
    "test,type(test)"
   ]
  },
  {
   "cell_type": "code",
   "execution_count": 21,
   "id": "3924e9c9",
   "metadata": {},
   "outputs": [
    {
     "data": {
      "text/plain": [
       "(False, True)"
      ]
     },
     "execution_count": 21,
     "metadata": {},
     "output_type": "execute_result"
    }
   ],
   "source": [
    "a = True\n",
    "b = False\n",
    "a & b, a | b"
   ]
  },
  {
   "cell_type": "code",
   "execution_count": 24,
   "id": "97caa546",
   "metadata": {},
   "outputs": [
    {
     "data": {
      "text/plain": [
       "(3, 4, 15)"
      ]
     },
     "execution_count": 24,
     "metadata": {},
     "output_type": "execute_result"
    }
   ],
   "source": [
    "b+3,a + 3 + b , a + a + a + a + a + 10"
   ]
  },
  {
   "cell_type": "code",
   "execution_count": null,
   "id": "8dbe6b0d",
   "metadata": {},
   "outputs": [],
   "source": [
    "x = 1e6; y = 1e-3     # e 연산은 float형\n",
    "x, y, type(x), type(1.0)"
   ]
  },
  {
   "cell_type": "code",
   "execution_count": 25,
   "id": "01d4e202",
   "metadata": {},
   "outputs": [
    {
     "name": "stdout",
     "output_type": "stream",
     "text": [
      "1.5 0.5\n"
     ]
    },
    {
     "data": {
      "text/plain": [
       "((1.5+0.5j), complex)"
      ]
     },
     "execution_count": 25,
     "metadata": {},
     "output_type": "execute_result"
    }
   ],
   "source": [
    "# complex numbers\n",
    "c = 1.5 + 0.5j\n",
    "print(c.real, c.imag)\n",
    "c, type(c)"
   ]
  },
  {
   "cell_type": "markdown",
   "id": "744e21b9",
   "metadata": {},
   "source": [
    "# Some of Python built-in functions"
   ]
  },
  {
   "cell_type": "code",
   "execution_count": 27,
   "id": "d4b7f472",
   "metadata": {},
   "outputs": [
    {
     "data": {
      "text/plain": [
       "(False, True)"
      ]
     },
     "execution_count": 27,
     "metadata": {},
     "output_type": "execute_result"
    }
   ],
   "source": [
    "a = 3\n",
    "b = 4\n",
    "a is b, a is not b"
   ]
  },
  {
   "cell_type": "code",
   "execution_count": 28,
   "id": "0dd0035f",
   "metadata": {},
   "outputs": [
    {
     "data": {
      "text/plain": [
       "(True, True)"
      ]
     },
     "execution_count": 28,
     "metadata": {},
     "output_type": "execute_result"
    }
   ],
   "source": [
    "# membership operators\n",
    "a = [1,2,3,4]\n",
    "b = 3\n",
    "b in a, 5 not in a"
   ]
  },
  {
   "cell_type": "code",
   "execution_count": 29,
   "id": "7d26b6b2",
   "metadata": {},
   "outputs": [
    {
     "data": {
      "text/plain": [
       "False"
      ]
     },
     "execution_count": 29,
     "metadata": {},
     "output_type": "execute_result"
    }
   ],
   "source": [
    "a, b = 3, 4\n",
    "a > b or a == b"
   ]
  },
  {
   "cell_type": "code",
   "execution_count": 31,
   "id": "8059feb9",
   "metadata": {},
   "outputs": [
    {
     "data": {
      "text/plain": [
       "'C:\\\\Users\\\\acyc0\\\\anaconda3\\\\lib\\\\string.py'"
      ]
     },
     "execution_count": 31,
     "metadata": {},
     "output_type": "execute_result"
    }
   ],
   "source": [
    "#### for my reference \n",
    "a = \"77777\"\n",
    "import string\n",
    "string.__file__   # __file__: imported 된 모듈의 path 를 지정하는 변수\n",
    "\n",
    "# !type C:\\\\Users\\\\rta_note\\\\Anaconda3\\\\lib\\\\string.py"
   ]
  },
  {
   "cell_type": "markdown",
   "id": "b054ab9c",
   "metadata": {},
   "source": [
    "# Container Variables\n",
    "- string\n",
    "- list: mutable\n",
    "- tuple\n",
    "- dictionary (dict): mutable\n",
    "- set"
   ]
  },
  {
   "cell_type": "markdown",
   "id": "f6575142",
   "metadata": {},
   "source": [
    "## strings\n",
    "- case: s.capitalize(),s.lower(),s.swapcase(),s.title(),s.upper()\n",
    "- Conditions: s.isalnum,s.isalpha,s.isdigit,s.isupper, s.islower, s.istitle,s.isspace\n",
    "- Basic search: s.startswith(), s.endswith(),s.find(), s.index(), s.rfind(),s.rindex()\n",
    "- Format:s.format\n",
    "- Split: s.split(), s.rsplit,s.partition\n",
    "- Strip: s.strip(), s.lstrip, s.rstrip\n",
    "- Replace: s.replace()\n",
    "- Join: s.join(t) joins the strings in sequence t with s as a separator"
   ]
  },
  {
   "cell_type": "code",
   "execution_count": 32,
   "id": "1b9b4ee9",
   "metadata": {},
   "outputs": [
    {
     "ename": "NameError",
     "evalue": "name 's' is not defined",
     "output_type": "error",
     "traceback": [
      "\u001b[1;31m---------------------------------------------------------------------------\u001b[0m",
      "\u001b[1;31mNameError\u001b[0m                                 Traceback (most recent call last)",
      "Input \u001b[1;32mIn [32]\u001b[0m, in \u001b[0;36m<cell line: 1>\u001b[1;34m()\u001b[0m\n\u001b[1;32m----> 1\u001b[0m \u001b[38;5;28mdir\u001b[39m(\u001b[43ms\u001b[49m)\n",
      "\u001b[1;31mNameError\u001b[0m: name 's' is not defined"
     ]
    }
   ],
   "source": [
    "dir(s)"
   ]
  },
  {
   "cell_type": "code",
   "execution_count": 36,
   "id": "44bcc416",
   "metadata": {},
   "outputs": [
    {
     "data": {
      "text/plain": [
       "('Hello', 'HELLO', 'hello', 'HEllO', 'HIHI', 'hihi', 'Hello')"
      ]
     },
     "execution_count": 36,
     "metadata": {},
     "output_type": "execute_result"
    }
   ],
   "source": [
    "s =\"heLLo\"\n",
    "ss=\"hihi\"\n",
    "sss=\"HIHI\"\n",
    "s.capitalize(), s.upper(), s.lower(), s.swapcase(),ss.swapcase(), sss.swapcase(),s.title()\n",
    "# swapcase() 는 소->, 대->소 로 변환  title함수는 앞문자만 대문자로 변환"
   ]
  },
  {
   "cell_type": "code",
   "execution_count": 37,
   "id": "3c9ae5e3",
   "metadata": {},
   "outputs": [
    {
     "data": {
      "text/plain": [
       "(True, True, False, False, False, False, False)"
      ]
     },
     "execution_count": 37,
     "metadata": {},
     "output_type": "execute_result"
    }
   ],
   "source": [
    "s.isalnum(), s.isalpha(), s.isdigit(), s.ㅊ, s.islower(), s.istitle(),s.isspace()\n",
    "#문자열이 숫자,영어 혹은 한글로 되어있는가?\n",
    "#문자열이 영어 혹은 한글로 되어있는가?\n",
    "#숫자로만 이루어 져있는가?\n",
    "#대문자인지 소문자인지 구분\n",
    "#문자열의 첫글자만 대문자인가?\n",
    "#문자열이 공백을 포함하면 True"
   ]
  },
  {
   "cell_type": "code",
   "execution_count": 38,
   "id": "78195987",
   "metadata": {},
   "outputs": [
    {
     "name": "stdout",
     "output_type": "stream",
     "text": [
      "9 9\n",
      "24 24\n"
     ]
    },
    {
     "data": {
      "text/plain": [
       "(False, True)"
      ]
     },
     "execution_count": 38,
     "metadata": {},
     "output_type": "execute_result"
    }
   ],
   "source": [
    "s1 = \"animals: cat, dog, cat, cat, wow!!!\";\n",
    "s2 = \"cat\";\n",
    "\n",
    "print (s1.find(s2), s1.index(s2))     # 첫번째 문자열 위치 찾기\n",
    "print (s1.rfind(s2), s1.rindex(s2))   # 마지막 문자열 위치 찾기\n",
    "s2.startswith('d'), s2.endswith('t') #시작하는 문자와 마지막 문자가 맞냐 아니냐"
   ]
  },
  {
   "cell_type": "code",
   "execution_count": 39,
   "id": "8cddcb69",
   "metadata": {},
   "outputs": [
    {
     "data": {
      "text/plain": [
       "'Too many spaces.'"
      ]
     },
     "execution_count": 39,
     "metadata": {},
     "output_type": "execute_result"
    }
   ],
   "source": [
    "\"    Too many spaces.     \".strip()   #공백제거"
   ]
  },
  {
   "cell_type": "code",
   "execution_count": 42,
   "id": "f7ec7880",
   "metadata": {},
   "outputs": [
    {
     "data": {
      "text/plain": [
       "'HeeLO'"
      ]
     },
     "execution_count": 42,
     "metadata": {},
     "output_type": "execute_result"
    }
   ],
   "source": [
    "\"HELLO\".replace(\"EL\",'ee') "
   ]
  },
  {
   "cell_type": "code",
   "execution_count": 52,
   "id": "d7d1390c",
   "metadata": {},
   "outputs": [
    {
     "name": "stdout",
     "output_type": "stream",
     "text": [
      "i am home ['i', 'am', 'home'] i : am : youngchul ['i ', ' am ', ' youngchul']\n"
     ]
    }
   ],
   "source": [
    "x=\"i am home\"\n",
    "xx=\"i : am : youngchul\"\n",
    "y=x.split(' ')    # ' '(공백)을 기준으로 문자열을 나눈다.\n",
    "z=xx.split(':')   # ' :'기준으로 문자열을 나눈다.\n",
    "print(x,y,xx,z)\n"
   ]
  },
  {
   "cell_type": "code",
   "execution_count": 53,
   "id": "30335c0e",
   "metadata": {},
   "outputs": [
    {
     "data": {
      "text/plain": [
       "'1:2:3'"
      ]
     },
     "execution_count": 53,
     "metadata": {},
     "output_type": "execute_result"
    }
   ],
   "source": [
    "\":\".join(['1', '2', '3'])  #리스트를 문자열로 일정하게 합쳐준다.//그 사이사이 : 가 들어간다."
   ]
  },
  {
   "cell_type": "code",
   "execution_count": 58,
   "id": "07766d40",
   "metadata": {},
   "outputs": [
    {
     "data": {
      "text/plain": [
       "'Hello,\\n    how are you'"
      ]
     },
     "execution_count": 58,
     "metadata": {},
     "output_type": "execute_result"
    }
   ],
   "source": [
    "s = 'Hello, how are you?'\n",
    "s = \"Hi, what's up\"\n",
    "s = '''Hello,\n",
    "    how are you'''        # '''    '''  이 사사이에 문자열을 넣으면 한줄에 안적어도 된다.\n",
    " \n",
    "s\n",
    "\n",
    "# w = [1, 2, 3,\n",
    "#      4, 5]\n",
    "# x = 4 + 3 + 5 + 6 \\        # 줄을 넘길때 \\사용\n",
    "#     + 7\n",
    "# w, x"
   ]
  },
  {
   "cell_type": "code",
   "execution_count": 71,
   "id": "7a89605c",
   "metadata": {},
   "outputs": [
    {
     "data": {
      "text/plain": [
       "'lo,'"
      ]
     },
     "execution_count": 71,
     "metadata": {},
     "output_type": "execute_result"
    }
   ],
   "source": [
    "a = \"hello, world!\"\n",
    "a[3:6]     "
   ]
  },
  {
   "cell_type": "code",
   "execution_count": 72,
   "id": "5068388a",
   "metadata": {},
   "outputs": [
    {
     "data": {
      "text/plain": [
       "'lo o'"
      ]
     },
     "execution_count": 72,
     "metadata": {},
     "output_type": "execute_result"
    }
   ],
   "source": [
    "a[2:10:2]  #2번부터 9번포함까지 2칸씩 건너뛰어 "
   ]
  },
  {
   "cell_type": "code",
   "execution_count": 73,
   "id": "deb128c4",
   "metadata": {},
   "outputs": [
    {
     "data": {
      "text/plain": [
       "'hl r!'"
      ]
     },
     "execution_count": 73,
     "metadata": {},
     "output_type": "execute_result"
    }
   ],
   "source": [
    "a[::3]          # 없으면 처음, 끝 까지 3칸씩"
   ]
  },
  {
   "cell_type": "code",
   "execution_count": 74,
   "id": "85bf39e8",
   "metadata": {},
   "outputs": [
    {
     "ename": "TypeError",
     "evalue": "'str' object does not support item assignment",
     "output_type": "error",
     "traceback": [
      "\u001b[1;31m---------------------------------------------------------------------------\u001b[0m",
      "\u001b[1;31mTypeError\u001b[0m                                 Traceback (most recent call last)",
      "Input \u001b[1;32mIn [74]\u001b[0m, in \u001b[0;36m<cell line: 2>\u001b[1;34m()\u001b[0m\n\u001b[0;32m      1\u001b[0m a \u001b[38;5;241m=\u001b[39m \u001b[38;5;124m\"\u001b[39m\u001b[38;5;124mhello, world!\u001b[39m\u001b[38;5;124m\"\u001b[39m\n\u001b[1;32m----> 2\u001b[0m a[\u001b[38;5;241m2\u001b[39m] \u001b[38;5;241m=\u001b[39m \u001b[38;5;124m'\u001b[39m\u001b[38;5;124mz\u001b[39m\u001b[38;5;124m'\u001b[39m\n",
      "\u001b[1;31mTypeError\u001b[0m: 'str' object does not support item assignment"
     ]
    }
   ],
   "source": [
    "# a = \"hello, world!\"\n",
    "# a[2] = 'z'              #문자열은 임뮤터블이어서 변경 불가"
   ]
  },
  {
   "cell_type": "code",
   "execution_count": 76,
   "id": "5cc9f020",
   "metadata": {},
   "outputs": [
    {
     "data": {
      "text/plain": [
       "('hello, world!', 'hezzo, world!', 2217994206384, 2217990926192)"
      ]
     },
     "execution_count": 76,
     "metadata": {},
     "output_type": "execute_result"
    }
   ],
   "source": [
    "b = a.replace('l', 'z', 2)  # l을 z로 2(변경할 횟수)\n",
    "a, b, id(a), id(b)"
   ]
  },
  {
   "cell_type": "code",
   "execution_count": 77,
   "id": "00c5f313",
   "metadata": {},
   "outputs": [
    {
     "data": {
      "text/plain": [
       "'hezzo, worzd!'"
      ]
     },
     "execution_count": 77,
     "metadata": {},
     "output_type": "execute_result"
    }
   ],
   "source": [
    "a.replace('l', 'z')  # 없으면 전부 변경"
   ]
  },
  {
   "cell_type": "code",
   "execution_count": 78,
   "id": "d682d208",
   "metadata": {},
   "outputs": [
    {
     "name": "stdout",
     "output_type": "stream",
     "text": [
      "b\n",
      "a\n",
      "n\n",
      "a\n",
      "n\n",
      "a\n"
     ]
    }
   ],
   "source": [
    "for x in \"banana\":\n",
    "    print(x)"
   ]
  },
  {
   "cell_type": "markdown",
   "id": "19e4645a",
   "metadata": {},
   "source": [
    "# 반복가능한 변수와 반복자\n",
    "-반복 가능한 객체: 리스트, 튜플, 사전 및 문자열   \n",
    "-반복자: 셀 수 있는 개수의 값을 포함하는 개체"
   ]
  },
  {
   "cell_type": "code",
   "execution_count": 79,
   "id": "7521b6f2",
   "metadata": {},
   "outputs": [],
   "source": [
    "mytuple = (\"apple\", \"banana\", \"cherry\")\n",
    "myit = iter(mytuple)"
   ]
  },
  {
   "cell_type": "code",
   "execution_count": 80,
   "id": "147da503",
   "metadata": {},
   "outputs": [
    {
     "data": {
      "text/plain": [
       "('apple', 'banana', 'cherry')"
      ]
     },
     "execution_count": 80,
     "metadata": {},
     "output_type": "execute_result"
    }
   ],
   "source": [
    "next(myit), next(myit), next(myit)"
   ]
  },
  {
   "cell_type": "code",
   "execution_count": 81,
   "id": "a973f91f",
   "metadata": {},
   "outputs": [
    {
     "ename": "StopIteration",
     "evalue": "",
     "output_type": "error",
     "traceback": [
      "\u001b[1;31m---------------------------------------------------------------------------\u001b[0m",
      "\u001b[1;31mStopIteration\u001b[0m                             Traceback (most recent call last)",
      "Input \u001b[1;32mIn [81]\u001b[0m, in \u001b[0;36m<cell line: 1>\u001b[1;34m()\u001b[0m\n\u001b[1;32m----> 1\u001b[0m \u001b[38;5;28;43mnext\u001b[39;49m\u001b[43m(\u001b[49m\u001b[43mmyit\u001b[49m\u001b[43m)\u001b[49m\n",
      "\u001b[1;31mStopIteration\u001b[0m: "
     ]
    }
   ],
   "source": [
    "#next(myit)      # 반복이 끝이나서 오류 발생"
   ]
  },
  {
   "cell_type": "code",
   "execution_count": 82,
   "id": "600d295c",
   "metadata": {},
   "outputs": [
    {
     "name": "stdout",
     "output_type": "stream",
     "text": [
      "apple\n",
      "banana\n",
      "cherry\n"
     ]
    }
   ],
   "source": [
    "for x in mytuple:       # 반복문을 사용하여 반복가능한 객체를 사용한다\n",
    "    print(x)"
   ]
  },
  {
   "cell_type": "code",
   "execution_count": 83,
   "id": "25c7abe7",
   "metadata": {},
   "outputs": [
    {
     "name": "stdout",
     "output_type": "stream",
     "text": [
      "b\n",
      "a\n",
      "n\n",
      "a\n",
      "n\n",
      "a\n"
     ]
    }
   ],
   "source": [
    "mystr = \"banana\"\n",
    "for x in mystr:\n",
    "    print(x)"
   ]
  },
  {
   "cell_type": "code",
   "execution_count": 102,
   "id": "1eae284e",
   "metadata": {},
   "outputs": [
    {
     "data": {
      "text/plain": [
       "([0, 1, 2, 3], [0, 1, 2, 3], [0, 1, 2, 3], [3, 2, 1], [0, 2], 3)"
      ]
     },
     "execution_count": 102,
     "metadata": {},
     "output_type": "execute_result"
    }
   ],
   "source": [
    "a = [0,1,2,3]\n",
    "b=[1,2,3]\n",
    "a, a[:], a[::], a[-1:0:-1], a[::2], a[-1]"
   ]
  },
  {
   "cell_type": "code",
   "execution_count": 85,
   "id": "efa3a5cf",
   "metadata": {},
   "outputs": [
    {
     "data": {
      "text/plain": [
       "(4, 3, 0, 6)"
      ]
     },
     "execution_count": 85,
     "metadata": {},
     "output_type": "execute_result"
    }
   ],
   "source": [
    "len(a), max(a), min(a), sum(a)"
   ]
  },
  {
   "cell_type": "code",
   "execution_count": 87,
   "id": "df99abe6",
   "metadata": {},
   "outputs": [
    {
     "ename": "TypeError",
     "evalue": "unsupported operand type(s) for +: 'int' and 'str'",
     "output_type": "error",
     "traceback": [
      "\u001b[1;31m---------------------------------------------------------------------------\u001b[0m",
      "\u001b[1;31mTypeError\u001b[0m                                 Traceback (most recent call last)",
      "Input \u001b[1;32mIn [87]\u001b[0m, in \u001b[0;36m<cell line: 1>\u001b[1;34m()\u001b[0m\n\u001b[1;32m----> 1\u001b[0m \u001b[38;5;28;43msum\u001b[39;49m\u001b[43m(\u001b[49m\u001b[43m[\u001b[49m\u001b[38;5;241;43m1\u001b[39;49m\u001b[43m,\u001b[49m\u001b[38;5;241;43m2\u001b[39;49m\u001b[43m,\u001b[49m\u001b[38;5;241;43m3\u001b[39;49m\u001b[43m,\u001b[49m\u001b[38;5;124;43m'\u001b[39;49m\u001b[38;5;124;43ms\u001b[39;49m\u001b[38;5;124;43m'\u001b[39;49m\u001b[43m]\u001b[49m\u001b[43m)\u001b[49m\n",
      "\u001b[1;31mTypeError\u001b[0m: unsupported operand type(s) for +: 'int' and 'str'"
     ]
    }
   ],
   "source": [
    "#sum([1,2,3,'s'])         #문자열은 못더한다"
   ]
  },
  {
   "cell_type": "code",
   "execution_count": 91,
   "id": "36ddeb77",
   "metadata": {},
   "outputs": [
    {
     "data": {
      "text/plain": [
       "(True, False)"
      ]
     },
     "execution_count": 91,
     "metadata": {},
     "output_type": "execute_result"
    }
   ],
   "source": [
    "any(a), all(a)     # all 인자의 모든 요소가 참이면 참 반환 0이있어서 거짓 any는 하나만 있어도"
   ]
  },
  {
   "cell_type": "code",
   "execution_count": 97,
   "id": "717ca098",
   "metadata": {},
   "outputs": [
    {
     "data": {
      "text/plain": [
       "[0, 3]"
      ]
     },
     "execution_count": 97,
     "metadata": {},
     "output_type": "execute_result"
    }
   ],
   "source": [
    "a"
   ]
  },
  {
   "cell_type": "code",
   "execution_count": 103,
   "id": "b5e0c145",
   "metadata": {},
   "outputs": [
    {
     "name": "stdout",
     "output_type": "stream",
     "text": [
      "[0, 1, 4, 3]\n",
      "[0, 1, 4, 3, 3]\n",
      "[0, 3]\n"
     ]
    }
   ],
   "source": [
    "# assign and delete\n",
    "a[2] = 4;print(a)\n",
    "a.append(3); print(a)\n",
    "del (a[1:-1]); print(a)"
   ]
  },
  {
   "cell_type": "code",
   "execution_count": 106,
   "id": "617f8b9b",
   "metadata": {},
   "outputs": [
    {
     "name": "stdout",
     "output_type": "stream",
     "text": [
      "5 1\n",
      "6 2\n",
      "7 3\n",
      "8 4\n",
      "\n",
      "1\n",
      "2\n",
      "3\n",
      "4\n"
     ]
    }
   ],
   "source": [
    "a = [1,2,3,4]\n",
    "for index, value in enumerate(a, 5):  # 인덱스를 표시해주는 enumerate ,   5는 시작인덱스\n",
    "    print( index, value)\n",
    "\n",
    "print()\n",
    "for value in a:\n",
    "    print (value)"
   ]
  },
  {
   "cell_type": "code",
   "execution_count": 107,
   "id": "6ab8a472",
   "metadata": {},
   "outputs": [],
   "source": [
    "a = [1,2,3,4]\n",
    "b = ['a','b','c','d']"
   ]
  },
  {
   "cell_type": "code",
   "execution_count": 108,
   "id": "d56c0b08",
   "metadata": {},
   "outputs": [
    {
     "data": {
      "text/plain": [
       "zip"
      ]
     },
     "execution_count": 108,
     "metadata": {},
     "output_type": "execute_result"
    }
   ],
   "source": [
    "type(zip(a, b))"
   ]
  },
  {
   "cell_type": "code",
   "execution_count": null,
   "id": "54e72332",
   "metadata": {},
   "outputs": [],
   "source": []
  },
  {
   "cell_type": "code",
   "execution_count": null,
   "id": "075fd08d",
   "metadata": {},
   "outputs": [],
   "source": []
  },
  {
   "cell_type": "code",
   "execution_count": null,
   "id": "72db4441",
   "metadata": {},
   "outputs": [],
   "source": []
  },
  {
   "cell_type": "code",
   "execution_count": null,
   "id": "c14a0bec",
   "metadata": {},
   "outputs": [],
   "source": []
  },
  {
   "cell_type": "code",
   "execution_count": null,
   "id": "3b05337f",
   "metadata": {},
   "outputs": [],
   "source": []
  },
  {
   "cell_type": "code",
   "execution_count": null,
   "id": "e2dc7488",
   "metadata": {},
   "outputs": [],
   "source": []
  },
  {
   "cell_type": "code",
   "execution_count": null,
   "id": "e9886767",
   "metadata": {},
   "outputs": [],
   "source": []
  },
  {
   "cell_type": "code",
   "execution_count": null,
   "id": "1f1c3bd7",
   "metadata": {},
   "outputs": [],
   "source": []
  },
  {
   "cell_type": "code",
   "execution_count": null,
   "id": "1697b147",
   "metadata": {},
   "outputs": [],
   "source": []
  },
  {
   "cell_type": "code",
   "execution_count": null,
   "id": "ccadecbe",
   "metadata": {},
   "outputs": [],
   "source": []
  },
  {
   "cell_type": "code",
   "execution_count": null,
   "id": "48123ddc",
   "metadata": {},
   "outputs": [],
   "source": []
  },
  {
   "cell_type": "code",
   "execution_count": null,
   "id": "94235242",
   "metadata": {},
   "outputs": [],
   "source": []
  },
  {
   "cell_type": "code",
   "execution_count": null,
   "id": "396fb73b",
   "metadata": {},
   "outputs": [],
   "source": []
  },
  {
   "cell_type": "code",
   "execution_count": null,
   "id": "009e9024",
   "metadata": {},
   "outputs": [],
   "source": []
  }
 ],
 "metadata": {
  "kernelspec": {
   "display_name": "Python 3 (ipykernel)",
   "language": "python",
   "name": "python3"
  },
  "language_info": {
   "codemirror_mode": {
    "name": "ipython",
    "version": 3
   },
   "file_extension": ".py",
   "mimetype": "text/x-python",
   "name": "python",
   "nbconvert_exporter": "python",
   "pygments_lexer": "ipython3",
   "version": "3.9.12"
  }
 },
 "nbformat": 4,
 "nbformat_minor": 5
}
